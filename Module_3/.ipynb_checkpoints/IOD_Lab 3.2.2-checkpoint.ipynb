{
 "cells": [
  {
   "cell_type": "markdown",
   "metadata": {
    "colab_type": "text",
    "id": "XfnQYVMtJhQD"
   },
   "source": [
    "<div>\n",
    "<img src=https://www.institutedata.com/wp-content/uploads/2019/10/iod_h_tp_primary_c.svg width=\"300\">\n",
    "</div>\n"
   ]
  },
  {
   "cell_type": "markdown",
   "metadata": {
    "colab_type": "text",
    "id": "5dCt8XbjJhQG"
   },
   "source": [
    "# Lab 3.2.2 \n",
    "# *Mining Social Media with Twitter*"
   ]
  },
  {
   "cell_type": "markdown",
   "metadata": {
    "colab_type": "text",
    "id": "b5VfS9hhJhQI"
   },
   "source": [
    "## The Twitter API and Tweepy Package"
   ]
  },
  {
   "cell_type": "markdown",
   "metadata": {
    "colab_type": "text",
    "id": "lF2z-w5uJhQK"
   },
   "source": [
    "The Twitter API provides access to tweets and comments, and allows an application to post tweets to the user's timeline. \n",
    "\n",
    "Twitter requires developers to create and authenticate an app before they can use the API. As of recent policy changes, however, new developers must be approved before they can create an app. There is no indication of the waiting period for approval."
   ]
  },
  {
   "cell_type": "markdown",
   "metadata": {
    "colab_type": "text",
    "id": "M0wxJ8HNJhQM"
   },
   "source": [
    "### 1. Apply for Developer Access\n",
    "\n",
    "Go to https://blog.twitter.com/developer/en_us/topics/tools/2018/new-developer-requirements-to-protect-our-platform.html\n",
    "and read the advice.\n"
   ]
  },
  {
   "cell_type": "markdown",
   "metadata": {
    "colab_type": "text",
    "id": "tICSKwL1JhQN"
   },
   "source": [
    "Apply at https://developer.twitter.com/en/apply-for-access.html. Where asked state that you will use the app as a student to explore the tweepy Python library and use it to fetch recent tweets and to create/delete a tweet."
   ]
  },
  {
   "cell_type": "markdown",
   "metadata": {
    "colab_type": "text",
    "id": "NMeZ70IZJhQR"
   },
   "source": [
    "### 2. Create Your Twitter App\n",
    "Go to https://developer.twitter.com/en/portal/projects-and-apps and click on the \"+ Create App\" button. Give your app a name and then you will be able to generate Consumer Keys (API key & secret) and Authentication Tokens (Access token & secret). Copy-paste these authentication details for use in this lab."
   ]
  },
  {
   "cell_type": "markdown",
   "metadata": {
    "colab_type": "text",
    "id": "HpWMHz9NJhQS"
   },
   "source": [
    "### 3. Load Python Libraries"
   ]
  },
  {
   "cell_type": "code",
   "execution_count": 11,
   "metadata": {
    "colab": {},
    "colab_type": "code",
    "id": "16hb8EpNJhQU"
   },
   "outputs": [],
   "source": [
    "import tweepy\n",
    "import json\n",
    "import pprint"
   ]
  },
  {
   "cell_type": "markdown",
   "metadata": {
    "colab_type": "text",
    "id": "p7W0se6_JhQX"
   },
   "source": [
    "### 4. Authenticate from your Python script"
   ]
  },
  {
   "cell_type": "markdown",
   "metadata": {
    "colab_type": "text",
    "id": "mJfe55dVJhQY"
   },
   "source": [
    "You could assign your authentication details explicitly, as follows:"
   ]
  },
  {
   "cell_type": "code",
   "execution_count": 4,
   "metadata": {
    "colab": {},
    "colab_type": "code",
    "id": "aygW7a3eJhQZ"
   },
   "outputs": [],
   "source": [
    "my_consumer_key = 'GS7kRxkpveBFqpey6myCwJ01d'      # your consumer key (string) goes in here\n",
    "my_consumer_secret = 'gGc9bnCGYQvjDY8M47foKmRSdl6FuFqmOIAOIJMn4M39rIlXUT'   # your consumer secret key (string) goes in here\n",
    "my_access_token = '82147042-L7wiMqxZqib6XiLdpphwskaKGKfEjZfMw4mhEdMOr'      # your access token (string) goes in here\n",
    "access_token_secret = 'EZvfP55xXAmqymu3SpDL8yxVKVOe9DFYYFwfiaBbMWckW'  # your access token secret (string) goes in here"
   ]
  },
  {
   "cell_type": "markdown",
   "metadata": {
    "colab_type": "text",
    "id": "7LXwmSzOJhQe"
   },
   "source": [
    "A better way would be to store these details externally, so they are not displayed in the notebook:\n",
    "\n",
    "- create a file called \"auth_twitter.json\" in your \"notebooks\" directory, and save your credentials there in JSON format:\n",
    "\n",
    "`{`<br>\n",
    "&nbsp;&nbsp;&nbsp;&nbsp;&nbsp;&nbsp;&nbsp;&nbsp;`   \"consumer_key\": \"your consumer key (string) goes in here\",` <br>\n",
    "&nbsp;&nbsp;&nbsp;&nbsp;&nbsp;&nbsp;&nbsp;&nbsp;` \"consumer_secret\": \"your consumer secret key (string) goes in here\",` <br>\n",
    "&nbsp;&nbsp;&nbsp;&nbsp;&nbsp;&nbsp;&nbsp;&nbsp;`\"access_token\": \"your access token (string) goes in here\",` <br>\n",
    "&nbsp;&nbsp;&nbsp;&nbsp;&nbsp;&nbsp;&nbsp;&nbsp;`\"access_token_secret\": \"your access token secret (string) goes in here\"` <br>\n",
    "`}`\n",
    "\n",
    "(Nb. Parsers are very fussy. Make sure each key:value pair has a comma after it except the last one!)  \n",
    "\n",
    "Use the following code to load the credentials:  "
   ]
  },
  {
   "cell_type": "code",
   "execution_count": null,
   "metadata": {
    "colab": {},
    "colab_type": "code",
    "id": "kh2srKpzJhQh"
   },
   "outputs": [],
   "source": [
    "pwd()  # make sure your working directory is where the file is"
   ]
  },
  {
   "cell_type": "code",
   "execution_count": 9,
   "metadata": {
    "colab": {},
    "colab_type": "code",
    "id": "uR8Vchz7JhQm"
   },
   "outputs": [],
   "source": [
    "path_auth = 'auth_twitter.json'\n",
    "auth = json.loads(open(path_auth).read())\n",
    "pp = pprint.PrettyPrinter(indent=4)\n",
    "# For debugging only:\n",
    "#pp.pprint(auth)\n",
    "\n",
    "my_consumer_key = auth['consumer_key']\n",
    "my_consumer_secret = auth['consumer_secret']\n",
    "my_access_token = auth['access_token']\n",
    "my_access_token_secret = auth['access_token_secret']"
   ]
  },
  {
   "cell_type": "markdown",
   "metadata": {
    "colab_type": "text",
    "id": "GPRmYZigJhQp"
   },
   "source": [
    "Security considerations: \n",
    "- this method only keeps your credentials invisible as long as nobody accesses this notebook while it's running on your computer \n",
    "- if you wanted another user to have access to the executable notebook without divulging your credentials you should set up an OAuth 2.0 workflow to let them obtain and apply their own API tokens when using your app\n",
    "- if you just want to share your analyses, you could use a separate script (which you don't share) to fetch the data and save it locally, then use a second notebook (with no API access) to load and analyse the locally stored data"
   ]
  },
  {
   "cell_type": "markdown",
   "metadata": {
    "colab_type": "text",
    "id": "Ln30k0pZJhQp"
   },
   "source": [
    "### 5. Exploring the API"
   ]
  },
  {
   "cell_type": "markdown",
   "metadata": {
    "colab_type": "text",
    "id": "6fsc0U1nJhQq"
   },
   "source": [
    "Here is how to connect to Twitter using the Tweepy library:"
   ]
  },
  {
   "cell_type": "code",
   "execution_count": 12,
   "metadata": {
    "colab": {},
    "colab_type": "code",
    "id": "-y_4GBx1JhQr"
   },
   "outputs": [],
   "source": [
    "auth = tweepy.OAuthHandler(my_consumer_key, my_consumer_secret)\n",
    "auth.set_access_token(my_access_token, my_access_token_secret)\n",
    "api = tweepy.API(auth)"
   ]
  },
  {
   "cell_type": "markdown",
   "metadata": {
    "colab_type": "text",
    "id": "wSKzR9LdJhQu"
   },
   "source": [
    "In the next cell, put the cursor after the '.' and hit the [tab] key to see the available members and methods in the response object:"
   ]
  },
  {
   "cell_type": "code",
   "execution_count": 14,
   "metadata": {
    "colab": {},
    "colab_type": "code",
    "id": "BfnAOR2bJhQv"
   },
   "outputs": [
    {
     "data": {
      "text/plain": [
       "{'id': 1283836546525757440,\n",
       " 'id_str': '1283836546525757440',\n",
       " 'name': '$agar',\n",
       " 'screen_name': 'SagarIshmi',\n",
       " 'location': '',\n",
       " 'description': 'I wanna fall in love with myself 😎😍😎',\n",
       " 'url': None,\n",
       " 'entities': {'description': {'urls': []}},\n",
       " 'protected': False,\n",
       " 'followers_count': 59,\n",
       " 'friends_count': 361,\n",
       " 'listed_count': 0,\n",
       " 'created_at': 'Thu Jul 16 18:51:17 +0000 2020',\n",
       " 'favourites_count': 1791,\n",
       " 'utc_offset': None,\n",
       " 'time_zone': None,\n",
       " 'geo_enabled': False,\n",
       " 'verified': False,\n",
       " 'statuses_count': 10,\n",
       " 'lang': None,\n",
       " 'status': {'created_at': 'Sat Aug 21 06:19:06 +0000 2021',\n",
       "  'id': 1428964863238283267,\n",
       "  'id_str': '1428964863238283267',\n",
       "  'text': \"guys it really works. it's easy &amp; simple. so just a click &amp; start earning...\\n\\nHi all, I just earned $35 and you can… https://t.co/gqNoZozuEs\",\n",
       "  'truncated': True,\n",
       "  'entities': {'hashtags': [],\n",
       "   'symbols': [],\n",
       "   'user_mentions': [],\n",
       "   'urls': [{'url': 'https://t.co/gqNoZozuEs',\n",
       "     'expanded_url': 'https://twitter.com/i/web/status/1428964863238283267',\n",
       "     'display_url': 'twitter.com/i/web/status/1…',\n",
       "     'indices': [125, 148]}]},\n",
       "  'source': '<a href=\"https://mobile.twitter.com\" rel=\"nofollow\">Twitter Web App</a>',\n",
       "  'in_reply_to_status_id': None,\n",
       "  'in_reply_to_status_id_str': None,\n",
       "  'in_reply_to_user_id': None,\n",
       "  'in_reply_to_user_id_str': None,\n",
       "  'in_reply_to_screen_name': None,\n",
       "  'geo': None,\n",
       "  'coordinates': None,\n",
       "  'place': None,\n",
       "  'contributors': None,\n",
       "  'is_quote_status': False,\n",
       "  'retweet_count': 0,\n",
       "  'favorite_count': 0,\n",
       "  'favorited': False,\n",
       "  'retweeted': False,\n",
       "  'possibly_sensitive': False,\n",
       "  'lang': 'en'},\n",
       " 'contributors_enabled': False,\n",
       " 'is_translator': False,\n",
       " 'is_translation_enabled': False,\n",
       " 'profile_background_color': 'F5F8FA',\n",
       " 'profile_background_image_url': None,\n",
       " 'profile_background_image_url_https': None,\n",
       " 'profile_background_tile': False,\n",
       " 'profile_image_url': 'http://pbs.twimg.com/profile_images/1283837676647444480/06Tsqdqk_normal.jpg',\n",
       " 'profile_image_url_https': 'https://pbs.twimg.com/profile_images/1283837676647444480/06Tsqdqk_normal.jpg',\n",
       " 'profile_link_color': '1DA1F2',\n",
       " 'profile_sidebar_border_color': 'C0DEED',\n",
       " 'profile_sidebar_fill_color': 'DDEEF6',\n",
       " 'profile_text_color': '333333',\n",
       " 'profile_use_background_image': True,\n",
       " 'has_extended_profile': False,\n",
       " 'default_profile': True,\n",
       " 'default_profile_image': False,\n",
       " 'following': False,\n",
       " 'live_following': False,\n",
       " 'follow_request_sent': False,\n",
       " 'notifications': False,\n",
       " 'muting': False,\n",
       " 'blocking': False,\n",
       " 'blocked_by': False,\n",
       " 'translator_type': 'none',\n",
       " 'withheld_in_countries': []}"
      ]
     },
     "execution_count": 14,
     "metadata": {},
     "output_type": "execute_result"
    }
   ],
   "source": [
    "api.followers()[0]._json"
   ]
  },
  {
   "cell_type": "markdown",
   "metadata": {
    "colab_type": "text",
    "id": "DcJ-cc6zJhQz"
   },
   "source": [
    "Consult the Tweept and Twitter API documentation. Print a few of the response members below:"
   ]
  },
  {
   "cell_type": "code",
   "execution_count": 15,
   "metadata": {
    "colab": {},
    "colab_type": "code",
    "id": "W_IKqMAQJhQ1"
   },
   "outputs": [],
   "source": [
    "# Retrieve a Twitter user object\n",
    "obama = api.get_user('barackobama')"
   ]
  },
  {
   "cell_type": "markdown",
   "metadata": {
    "colab_type": "text",
    "id": "dLkdLKjLJhQ3"
   },
   "source": [
    "This will fetch recent tweets from accounts you follow:"
   ]
  },
  {
   "cell_type": "code",
   "execution_count": 16,
   "metadata": {
    "colab": {},
    "colab_type": "code",
    "id": "l9y8t3X7JhQ4"
   },
   "outputs": [
    {
     "name": "stdout",
     "output_type": "stream",
     "text": [
      "I mean, if you were in Kohli's place, and you knew as much about cricket as the average professional first class cr… https://t.co/hEy4Fr3Ylr\n",
      "Just realised that an Arivu X Navz47 collab is what I really need in life right now\n",
      "🇸🇳 Senegal started the #BeachSoccerWC with an impressive win over Uruguay in Group D\n",
      "\n",
      "⚽️⚽️⚽️ Raoul Mendy scored a h… https://t.co/z2AQNIZbCI\n",
      "Enjoy an all-time great catch from Ricky Ponting as Simon Katich, who turns 46 today, picked up a SIX-wicket haul b… https://t.co/VcVxi0Q434\n",
      "As for Kohli, he's not arrogant or aggressive or thuggish or anything of the kind. Nor is he any more or less likel… https://t.co/zhmJvJzuDL\n",
      "RT @yamphoto: The despair of waiting to leave home, because home will no longer be home. #Afghanistan.\n",
      "\n",
      "https://t.co/PcIfPZ66Lp https://t.c…\n",
      "And its simple enough to demonstrate just how BS this whole thing is. These same IND players won in AUS with Rahane… https://t.co/zcZotMY5lT\n",
      "🦅 A wonderful send off for @HawthornFC legends Alastair Clarkson and Shaun Burgoyne. 🤎💛\n",
      "\n",
      "🏉 Saturday #AFL:… https://t.co/NPSrHcybAw\n",
      "Ever since cricket became competitive and professional and cricket selectors actually began pick squads to win, it… https://t.co/TlTlwfYL5O\n",
      "@sreshthx Bengalis in cities outside West Bengal do eat at Oh! Calcutta.\n",
      "Physics is awesome https://t.co/gFQJ3b40CQ\n",
      "Looking forward to sharing the episode with you. It’s light hearted, fun, and engaging. Thanks @ICC for the opportu… https://t.co/9CRbPUju64\n",
      "A car went airborne and launched directly into a Wendy's after hitting the side beam on a highway in South Brunswic… https://t.co/KdqkmjFF3M\n",
      "Sometimes it seems as though the amateur era was better. At least then, the idea cricket that a team should present… https://t.co/uJzgzBVM8k\n",
      "Police have arrested 47 people and issued more than 260 Penalty Infringement Notices in a swift and coordinated res… https://t.co/Xewvln1J7B\n",
      "US Cable: Sweden wanted to bomb Afghani's in order to 'enhance the marketability' of their new Gripen fighter jets… https://t.co/74qv94YHh6\n",
      "It's time for a double-take. https://t.co/c02GvJAyyT\n",
      "And a beautiful wrap to yet another season of #ModernLove on @PrimeVideoIN! Pretty great to see the generation rang… https://t.co/FcQ6urXBpo\n",
      "Hosted by @DanishSait, Around The Wicket will be a light-hearted show that celebrates everything we love about T20… https://t.co/ptU3nzvtQy\n",
      "Michail Antonio is making Hammers' history 👏\n",
      "\n",
      "Watch his full interview on today's Football Focus.\n",
      "\n",
      "📺📱 12pm, BBC One and BBC iPlayer\n"
     ]
    }
   ],
   "source": [
    "# Recent tweets from accounts you follow:\n",
    "tweets = api.home_timeline()\n",
    "for tweet in tweets:\n",
    "    print(tweet.text)"
   ]
  },
  {
   "cell_type": "markdown",
   "metadata": {
    "colab_type": "text",
    "id": "k2NpPlOIJhQ6"
   },
   "source": [
    "The request to see your own recent tweets is similar, but uses the `user_timeline` endpoint. Try this below:"
   ]
  },
  {
   "cell_type": "code",
   "execution_count": 18,
   "metadata": {},
   "outputs": [
    {
     "name": "stdout",
     "output_type": "stream",
     "text": [
      "Best thread in the history of Tweeter. ❤️ https://t.co/QH6tRj7ufl\n",
      "@ovshake42 😂\n",
      "Shots fired. 😂 https://t.co/Cdxqq2qg16\n",
      "Melinda is asking important questions. https://t.co/xiXAe7RlyL\n",
      "@BMWjarvo Did you Test yourself for Kovid before this stunt?\n",
      "@Bobbywood_ 😂\n",
      "বাংলাদেশে বসে আমরা বুঝতেছি যে গত বিশ বছরে তালেবানরা অনেক আধুনিক হয়ে গেছে। এবারে তাদের শাসন ব্যাবস্থা হবে যুগোপযোগী… https://t.co/CTbRbtJyR1\n",
      "I hate Biryani. https://t.co/ws1kQf9LhH\n",
      "Kohli, never change.\n",
      "Justin Langer will be sacked after Ashes.\n",
      "@melindafarrell What’s great success they are talking here? I might have missed that.\n",
      "#LangerOut https://t.co/2HuRQjgL3d\n",
      "RT @HameedMohdShah: صورة غير نمطية في أفغانستان.\n",
      "أول مظاهرة نسائية بعد حركة طالبان الى العاصمة كابل.\n",
      "@abuhilalah \n",
      "@khanfarw https://t.co/XK…\n",
      "@DineshKarthik @darensammy88 @isaguha @ICC Try to avoid 'I tell you'. \n",
      "\n",
      "#FriendlyAdvice\n",
      "🧵 https://t.co/IApkvGfkEs\n",
      "RT @archishmaaa: Chennai Twitter, do your thing. \n",
      "\n",
      "If anyone has contacts of Afghan students in Chennai needing help regarding visa extensi…\n",
      "@cricketingview Burns, Sibley, Hameed better than Trescothic, Vaughn, Nasser. Okay.\n",
      "@cricketingview 😂\n",
      "@sidvee Scenes if that happens and Kohli lose his shit.\n",
      "Pitch it up! Don't waste time and energy bowling those short bowls. Terrible. 🤷🏾‍♂️\n"
     ]
    }
   ],
   "source": [
    "tweets = api.user_timeline()\n",
    "for tweet in tweets:\n",
    "    print(tweet.text)"
   ]
  },
  {
   "cell_type": "code",
   "execution_count": 17,
   "metadata": {
    "colab": {},
    "colab_type": "code",
    "id": "QMlhdx5NJhQ6"
   },
   "outputs": [
    {
     "data": {
      "text/plain": [
       "Status(_api=<tweepy.api.API object at 0x7f4fc2a8b370>, _json={'created_at': 'Tue Aug 17 14:31:32 +0000 2021', 'id': 1427639234576490506, 'id_str': '1427639234576490506', 'text': 'Right now, thousands of people in Haiti are injured and even more are homeless after an earthquake hit the island o… https://t.co/fdv9K7bRYq', 'truncated': True, 'entities': {'hashtags': [], 'symbols': [], 'user_mentions': [], 'urls': [{'url': 'https://t.co/fdv9K7bRYq', 'expanded_url': 'https://twitter.com/i/web/status/1427639234576490506', 'display_url': 'twitter.com/i/web/status/1…', 'indices': [117, 140]}]}, 'source': '<a href=\"https://mobile.twitter.com\" rel=\"nofollow\">Twitter Web App</a>', 'in_reply_to_status_id': None, 'in_reply_to_status_id_str': None, 'in_reply_to_user_id': None, 'in_reply_to_user_id_str': None, 'in_reply_to_screen_name': None, 'geo': None, 'coordinates': None, 'place': None, 'contributors': None, 'is_quote_status': False, 'retweet_count': 6725, 'favorite_count': 28760, 'favorited': False, 'retweeted': False, 'possibly_sensitive': False, 'lang': 'en'}, created_at=datetime.datetime(2021, 8, 17, 14, 31, 32), id=1427639234576490506, id_str='1427639234576490506', text='Right now, thousands of people in Haiti are injured and even more are homeless after an earthquake hit the island o… https://t.co/fdv9K7bRYq', truncated=True, entities={'hashtags': [], 'symbols': [], 'user_mentions': [], 'urls': [{'url': 'https://t.co/fdv9K7bRYq', 'expanded_url': 'https://twitter.com/i/web/status/1427639234576490506', 'display_url': 'twitter.com/i/web/status/1…', 'indices': [117, 140]}]}, source='Twitter Web App', source_url='https://mobile.twitter.com', in_reply_to_status_id=None, in_reply_to_status_id_str=None, in_reply_to_user_id=None, in_reply_to_user_id_str=None, in_reply_to_screen_name=None, geo=None, coordinates=None, place=None, contributors=None, is_quote_status=False, retweet_count=6725, favorite_count=28760, favorited=False, retweeted=False, possibly_sensitive=False, lang='en')"
      ]
     },
     "execution_count": 17,
     "metadata": {},
     "output_type": "execute_result"
    }
   ],
   "source": [
    "obama.status"
   ]
  },
  {
   "cell_type": "markdown",
   "metadata": {
    "colab_type": "text",
    "id": "qY7oM-lJJhQ8"
   },
   "source": [
    "Now, instead of printing the text of each tweet, print the `created_at` and `id_str` methods:"
   ]
  },
  {
   "cell_type": "code",
   "execution_count": 19,
   "metadata": {
    "colab": {},
    "colab_type": "code",
    "id": "aUOlNdG8JhQ9"
   },
   "outputs": [
    {
     "name": "stdout",
     "output_type": "stream",
     "text": [
      "2021-08-20 14:22:18\n",
      "Best thread in the history of Tweeter. ❤️ https://t.co/QH6tRj7ufl\n",
      "2021-08-20 14:14:14\n",
      "@ovshake42 😂\n",
      "2021-08-20 04:05:18\n",
      "Shots fired. 😂 https://t.co/Cdxqq2qg16\n",
      "2021-08-20 03:59:18\n",
      "Melinda is asking important questions. https://t.co/xiXAe7RlyL\n",
      "2021-08-20 03:52:46\n",
      "@BMWjarvo Did you Test yourself for Kovid before this stunt?\n",
      "2021-08-19 08:45:04\n",
      "@Bobbywood_ 😂\n",
      "2021-08-19 08:09:37\n",
      "বাংলাদেশে বসে আমরা বুঝতেছি যে গত বিশ বছরে তালেবানরা অনেক আধুনিক হয়ে গেছে। এবারে তাদের শাসন ব্যাবস্থা হবে যুগোপযোগী… https://t.co/CTbRbtJyR1\n",
      "2021-08-19 07:31:07\n",
      "I hate Biryani. https://t.co/ws1kQf9LhH\n",
      "2021-08-18 11:29:36\n",
      "Kohli, never change.\n",
      "2021-08-18 08:00:18\n",
      "Justin Langer will be sacked after Ashes.\n",
      "2021-08-18 07:53:20\n",
      "@melindafarrell What’s great success they are talking here? I might have missed that.\n",
      "2021-08-18 07:26:19\n",
      "#LangerOut https://t.co/2HuRQjgL3d\n",
      "2021-08-17 22:22:48\n",
      "RT @HameedMohdShah: صورة غير نمطية في أفغانستان.\n",
      "أول مظاهرة نسائية بعد حركة طالبان الى العاصمة كابل.\n",
      "@abuhilalah \n",
      "@khanfarw https://t.co/XK…\n",
      "2021-08-17 09:25:34\n",
      "@DineshKarthik @darensammy88 @isaguha @ICC Try to avoid 'I tell you'. \n",
      "\n",
      "#FriendlyAdvice\n",
      "2021-08-17 09:13:12\n",
      "🧵 https://t.co/IApkvGfkEs\n",
      "2021-08-17 04:57:15\n",
      "RT @archishmaaa: Chennai Twitter, do your thing. \n",
      "\n",
      "If anyone has contacts of Afghan students in Chennai needing help regarding visa extensi…\n",
      "2021-08-17 04:39:28\n",
      "@cricketingview Burns, Sibley, Hameed better than Trescothic, Vaughn, Nasser. Okay.\n",
      "2021-08-17 02:45:11\n",
      "@cricketingview 😂\n",
      "2021-08-16 12:04:25\n",
      "@sidvee Scenes if that happens and Kohli lose his shit.\n",
      "2021-08-16 11:11:53\n",
      "Pitch it up! Don't waste time and energy bowling those short bowls. Terrible. 🤷🏾‍♂️\n"
     ]
    }
   ],
   "source": [
    "tweets = api.user_timeline()\n",
    "for tweet in tweets:\n",
    "    print(tweet.created_at)\n",
    "#     print(tweet.id_str)\n",
    "    print(tweet.text)"
   ]
  },
  {
   "cell_type": "markdown",
   "metadata": {
    "colab_type": "text",
    "id": "3PibchrmJhQ-"
   },
   "source": [
    "You can create a tweet as follows:"
   ]
  },
  {
   "cell_type": "code",
   "execution_count": 20,
   "metadata": {
    "colab": {},
    "colab_type": "code",
    "id": "IwzTjf1gJhQ_"
   },
   "outputs": [],
   "source": [
    "# create a tweet:\n",
    "tweet = api.update_status('Test: Made with Tweepy')"
   ]
  },
  {
   "cell_type": "markdown",
   "metadata": {
    "colab_type": "text",
    "id": "TtlXvbjoJhRB"
   },
   "source": [
    "(Nb. Don't abuse this feature! If you try to generate a zillion tweets in a loop, Twitter will ban youur account.)"
   ]
  },
  {
   "cell_type": "markdown",
   "metadata": {
    "colab_type": "text",
    "id": "awUIiruTJhRB"
   },
   "source": [
    "Tweets can be deleted by reference to their `id_str` attribute:"
   ]
  },
  {
   "cell_type": "code",
   "execution_count": null,
   "metadata": {
    "colab": {},
    "colab_type": "code",
    "id": "tKPSCOEBJhRC"
   },
   "outputs": [],
   "source": [
    "# delete a tweet:\n",
    "status = api.destroy_status(tweet.id_str)"
   ]
  },
  {
   "cell_type": "markdown",
   "metadata": {
    "colab_type": "text",
    "id": "hEt9NWJBJhRE"
   },
   "source": [
    "You can follow a Tweeter:"
   ]
  },
  {
   "cell_type": "code",
   "execution_count": null,
   "metadata": {
    "colab": {},
    "colab_type": "code",
    "id": "CDWxR8wOJhRF"
   },
   "outputs": [],
   "source": [
    "# follow:\n",
    "api.create_friendship('@YouTube')"
   ]
  },
  {
   "cell_type": "markdown",
   "metadata": {
    "colab_type": "text",
    "id": "Nbp2vRONJhRH"
   },
   "source": [
    "or unfollow:"
   ]
  },
  {
   "cell_type": "code",
   "execution_count": null,
   "metadata": {
    "colab": {},
    "colab_type": "code",
    "id": "wCsNNVT9JhRH"
   },
   "outputs": [],
   "source": [
    "# unfollow:\n",
    "api.destroy_friendship('@YouTube')"
   ]
  },
  {
   "cell_type": "markdown",
   "metadata": {
    "colab_type": "text",
    "id": "59l7EOATJrJO"
   },
   "source": [
    "\n",
    "\n",
    "---\n",
    "\n",
    "\n",
    "\n",
    "---\n",
    "\n",
    "\n",
    "\n",
    "> > > > > > > > > © 2021 Institute of Data\n",
    "\n",
    "\n",
    "---\n",
    "\n",
    "\n",
    "\n",
    "---\n",
    "\n",
    "\n",
    "\n"
   ]
  }
 ],
 "metadata": {
  "colab": {
   "collapsed_sections": [],
   "name": "DSIA Lab 2.2.2.ipynb",
   "provenance": []
  },
  "kernelspec": {
   "display_name": "Python 3",
   "language": "python",
   "name": "python3"
  },
  "language_info": {
   "codemirror_mode": {
    "name": "ipython",
    "version": 3
   },
   "file_extension": ".py",
   "mimetype": "text/x-python",
   "name": "python",
   "nbconvert_exporter": "python",
   "pygments_lexer": "ipython3",
   "version": "3.8.8"
  }
 },
 "nbformat": 4,
 "nbformat_minor": 4
}
