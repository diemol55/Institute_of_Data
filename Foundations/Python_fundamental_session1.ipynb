{
 "cells": [
  {
   "cell_type": "markdown",
   "id": "f6f24e44-d07e-44e3-b79c-fe6f95a1dd41",
   "metadata": {},
   "source": [
    "# Python Fundamental Session 1 - Data types"
   ]
  },
  {
   "cell_type": "markdown",
   "id": "818c35f0-e44e-4b60-a501-95828a753d7c",
   "metadata": {},
   "source": [
    "__Understand Python codes__<br>\n",
    "1.Code breakdown<br>\n",
    "2.Debug your codes<br>\n",
    "3.Find solution online (stackoverflow)"
   ]
  },
  {
   "cell_type": "markdown",
   "id": "6080b115-7ba2-4c0c-971b-a1e580700143",
   "metadata": {},
   "source": [
    "### Data types `Container Sequences`: \n",
    "Hold other types of data like string, integer, datetime <br>\n",
    "Aggregation, sorting, and looping <br>\n",
    "Can be mutable(List, Set, Dict) or immutable(Tuple)\n",
    "- `List` Hold data in order it was added, Mutable, Index\n",
    "- `Set` Unique, Unordered, Mutable\n",
    "- `Tuple` Holde data in order it was added, Immutable, Index, more efficient than list\n",
    "- `Dict` Hold data in key/value pairs, Mutable, "
   ]
  },
  {
   "cell_type": "markdown",
   "id": "c2a9041e-f836-4090-ad1b-99311fae7079",
   "metadata": {},
   "source": [
    "## __1. List__"
   ]
  },
  {
   "cell_type": "code",
   "execution_count": null,
   "id": "7d51d253-09a1-452b-b58b-7bac511e274a",
   "metadata": {},
   "outputs": [],
   "source": [
    "my_list = []"
   ]
  },
  {
   "cell_type": "code",
   "execution_count": null,
   "id": "4926d21e-8b32-4b10-ad69-aff6cc5cc2a4",
   "metadata": {},
   "outputs": [],
   "source": [
    "list()"
   ]
  },
  {
   "cell_type": "code",
   "execution_count": 2,
   "id": "9c9b6b51-cecb-4a9d-ba3d-07cb8581aa71",
   "metadata": {},
   "outputs": [],
   "source": [
    "fruit = ['apple', 'orange', 'banana']"
   ]
  },
  {
   "cell_type": "code",
   "execution_count": 3,
   "id": "1d7d45f0-3f8d-47cb-b3ad-4418c4f60aca",
   "metadata": {},
   "outputs": [
    {
     "data": {
      "text/plain": [
       "list"
      ]
     },
     "execution_count": 3,
     "metadata": {},
     "output_type": "execute_result"
    }
   ],
   "source": [
    "type(fruit)"
   ]
  },
  {
   "cell_type": "code",
   "execution_count": 4,
   "id": "638f00e1-8c1d-4626-afb7-9c9d174fc993",
   "metadata": {},
   "outputs": [],
   "source": [
    "fruit.append('avocado')"
   ]
  },
  {
   "cell_type": "code",
   "execution_count": 5,
   "id": "5f7896d9-ee08-471d-9739-0d8c14545f65",
   "metadata": {},
   "outputs": [
    {
     "name": "stdout",
     "output_type": "stream",
     "text": [
      "['apple', 'orange', 'banana', 'avocado']\n"
     ]
    }
   ],
   "source": [
    "print(fruit)"
   ]
  },
  {
   "cell_type": "code",
   "execution_count": 15,
   "id": "acf7faf6-6e63-4f5d-9bc5-73f8e6f0e8ea",
   "metadata": {},
   "outputs": [
    {
     "name": "stdout",
     "output_type": "stream",
     "text": [
      "banana\n"
     ]
    }
   ],
   "source": [
    "ricky_fruit = fruit[2]\n",
    "print(ricky_fruit)"
   ]
  },
  {
   "cell_type": "code",
   "execution_count": 18,
   "id": "3a888373-968d-4824-b818-5ff4378dcac6",
   "metadata": {
    "tags": []
   },
   "outputs": [
    {
     "name": "stdout",
     "output_type": "stream",
     "text": [
      "['apple', 'orange', 'banana']\n",
      "['apple', 'orange', 'banana', 'avocado']\n",
      "avocado\n"
     ]
    }
   ],
   "source": [
    "fruit = ['apple', 'orange', 'banana']\n",
    "print(fruit)\n",
    "\n",
    "fruit.append('avocado')\n",
    "print(fruit)\n",
    "\n",
    "print(fruit[3])"
   ]
  },
  {
   "cell_type": "markdown",
   "id": "c3994806-0bcf-4ee2-ab86-3900c45ee73d",
   "metadata": {},
   "source": [
    "__Combine Lists__"
   ]
  },
  {
   "cell_type": "code",
   "execution_count": 21,
   "id": "f0b24d05-9450-4872-886e-6b166b6bdf4b",
   "metadata": {
    "tags": []
   },
   "outputs": [
    {
     "name": "stdout",
     "output_type": "stream",
     "text": [
      "['apple', 'orange', 'banana', 'avocado', 'carrot', 'lettuce', 'onion']\n"
     ]
    }
   ],
   "source": [
    "vegie = ['carrot', 'lettuce', 'onion']\n",
    "\n",
    "produce = fruit + vegie\n",
    "print(produce)"
   ]
  },
  {
   "cell_type": "code",
   "execution_count": 92,
   "id": "f11972a4-07a5-47cb-be9b-7bf12727b096",
   "metadata": {
    "tags": []
   },
   "outputs": [
    {
     "name": "stdout",
     "output_type": "stream",
     "text": [
      "['carrot', 'lettuce', 'onion', 'apple', 'orange', 'banana', 'avocado']\n"
     ]
    }
   ],
   "source": [
    "vegie.extend(fruit)\n",
    "print(vegie)"
   ]
  },
  {
   "cell_type": "markdown",
   "id": "b0c13e2d-ef87-4357-92b4-82332f8a879d",
   "metadata": {},
   "source": [
    "__Remove elements in a list__"
   ]
  },
  {
   "cell_type": "code",
   "execution_count": 24,
   "id": "4d9cebb4-440e-4770-b0e2-9c398acb4544",
   "metadata": {},
   "outputs": [
    {
     "data": {
      "text/plain": [
       "['apple', 'orange', 'banana', 'avocado', 'carrot', 'lettuce', 'onion']"
      ]
     },
     "execution_count": 24,
     "metadata": {},
     "output_type": "execute_result"
    }
   ],
   "source": [
    "produce"
   ]
  },
  {
   "cell_type": "code",
   "execution_count": 26,
   "id": "cc2541af-0c6a-4658-a130-0ac6be1886c5",
   "metadata": {},
   "outputs": [],
   "source": [
    "position = produce.index('carrot')"
   ]
  },
  {
   "cell_type": "code",
   "execution_count": 30,
   "id": "272487ab-cd37-4bf7-a7ad-22f42520e3b2",
   "metadata": {},
   "outputs": [
    {
     "data": {
      "text/plain": [
       "'apple'"
      ]
     },
     "execution_count": 30,
     "metadata": {},
     "output_type": "execute_result"
    }
   ],
   "source": [
    "produce.pop(produce.index('apple'))"
   ]
  },
  {
   "cell_type": "code",
   "execution_count": 31,
   "id": "6634f06d-8707-4f4a-99ab-34e697e8801a",
   "metadata": {},
   "outputs": [
    {
     "data": {
      "text/plain": [
       "['orange', 'banana', 'avocado', 'lettuce', 'onion']"
      ]
     },
     "execution_count": 31,
     "metadata": {},
     "output_type": "execute_result"
    }
   ],
   "source": [
    "produce"
   ]
  },
  {
   "cell_type": "code",
   "execution_count": 93,
   "id": "622a6734-e1b0-447a-92fe-c81e14558ef5",
   "metadata": {
    "tags": []
   },
   "outputs": [
    {
     "name": "stdout",
     "output_type": "stream",
     "text": [
      "1\n",
      "['apple', 'banana', 'avocado']\n"
     ]
    }
   ],
   "source": [
    "position = fruit.index('orange')\n",
    "\n",
    "fruit.pop(position)\n",
    "\n",
    "print(position)\n",
    "print(fruit)"
   ]
  },
  {
   "cell_type": "markdown",
   "id": "f4278ccc-d176-4e82-bd46-69544a50f836",
   "metadata": {},
   "source": [
    "__Replace elements in a list__"
   ]
  },
  {
   "cell_type": "code",
   "execution_count": 32,
   "id": "6c15465f-9864-4a0e-ab17-0d9f11142f45",
   "metadata": {},
   "outputs": [
    {
     "data": {
      "text/plain": [
       "['apple', 'orange', 'banana', 'avocado']"
      ]
     },
     "execution_count": 32,
     "metadata": {},
     "output_type": "execute_result"
    }
   ],
   "source": [
    "fruit"
   ]
  },
  {
   "cell_type": "code",
   "execution_count": 33,
   "id": "3cc7ecca-0d78-4cb8-b794-3e97b8ae24a8",
   "metadata": {},
   "outputs": [],
   "source": [
    "fruit[2] = 'coconut'"
   ]
  },
  {
   "cell_type": "code",
   "execution_count": 34,
   "id": "5de5036a-72a7-48f2-95ee-35a1355b72da",
   "metadata": {},
   "outputs": [
    {
     "data": {
      "text/plain": [
       "['apple', 'orange', 'coconut', 'avocado']"
      ]
     },
     "execution_count": 34,
     "metadata": {},
     "output_type": "execute_result"
    }
   ],
   "source": [
    "fruit"
   ]
  },
  {
   "cell_type": "code",
   "execution_count": 35,
   "id": "d1ab6cc3-397b-4a8b-a3df-a97098bae4bb",
   "metadata": {},
   "outputs": [],
   "source": [
    "fruit[fruit.index('avocado')] = 'berry'"
   ]
  },
  {
   "cell_type": "code",
   "execution_count": 36,
   "id": "ffaea9bb-3aea-4ff2-9deb-859f00ec190b",
   "metadata": {},
   "outputs": [
    {
     "data": {
      "text/plain": [
       "['apple', 'orange', 'coconut', 'berry']"
      ]
     },
     "execution_count": 36,
     "metadata": {},
     "output_type": "execute_result"
    }
   ],
   "source": [
    "fruit"
   ]
  },
  {
   "cell_type": "code",
   "execution_count": 94,
   "id": "5cb4ee83-c122-4850-ae2c-417416565fcf",
   "metadata": {
    "tags": []
   },
   "outputs": [
    {
     "name": "stdout",
     "output_type": "stream",
     "text": [
      "['apple', 'coconut', 'avocado']\n"
     ]
    }
   ],
   "source": [
    "replace_position = fruit.index('banana')\n",
    "\n",
    "fruit[replace_position] = 'coconut'\n",
    "\n",
    "print(fruit)"
   ]
  },
  {
   "cell_type": "markdown",
   "id": "698145cb-3989-48a2-820b-dbd49fc145d9",
   "metadata": {},
   "source": [
    "__Iterate over lists__"
   ]
  },
  {
   "cell_type": "code",
   "execution_count": 43,
   "id": "730490d1-4911-47c7-b0b1-011956462767",
   "metadata": {},
   "outputs": [
    {
     "data": {
      "text/plain": [
       "['carrot', 'lettuce', 'onion']"
      ]
     },
     "execution_count": 43,
     "metadata": {},
     "output_type": "execute_result"
    }
   ],
   "source": [
    "vegie"
   ]
  },
  {
   "cell_type": "code",
   "execution_count": 46,
   "id": "e5360348-e632-4864-bda8-69ccd1b54f29",
   "metadata": {},
   "outputs": [
    {
     "name": "stdout",
     "output_type": "stream",
     "text": [
      "carrot apple\n",
      "carrot orange\n",
      "carrot coconut\n",
      "carrot berry\n",
      "lettuce apple\n",
      "lettuce orange\n",
      "lettuce coconut\n",
      "lettuce berry\n",
      "onion apple\n",
      "onion orange\n",
      "onion coconut\n",
      "onion berry\n"
     ]
    }
   ],
   "source": [
    "# Iterating over list using FOR loops\n",
    "for i in vegie:\n",
    "    for j in fruit:\n",
    "        print(i, j)"
   ]
  },
  {
   "cell_type": "code",
   "execution_count": 47,
   "id": "bef59d0f-5fb7-41f7-b14c-a6d17db0c548",
   "metadata": {},
   "outputs": [
    {
     "data": {
      "text/plain": [
       "[('carrot', 'apple'),\n",
       " ('carrot', 'orange'),\n",
       " ('carrot', 'coconut'),\n",
       " ('carrot', 'berry'),\n",
       " ('lettuce', 'apple'),\n",
       " ('lettuce', 'orange'),\n",
       " ('lettuce', 'coconut'),\n",
       " ('lettuce', 'berry'),\n",
       " ('onion', 'apple'),\n",
       " ('onion', 'orange'),\n",
       " ('onion', 'coconut'),\n",
       " ('onion', 'berry')]"
      ]
     },
     "execution_count": 47,
     "metadata": {},
     "output_type": "execute_result"
    }
   ],
   "source": [
    "# Iterating using list comprehension\n",
    "[(i, j) for i in vegie for j in fruit]"
   ]
  },
  {
   "cell_type": "markdown",
   "id": "de7ecc17-6f19-4ea6-8381-6411f0222cdb",
   "metadata": {},
   "source": [
    "__Sort over lists__"
   ]
  },
  {
   "cell_type": "code",
   "execution_count": 97,
   "id": "379d2743-64f8-445a-8d3a-e62497949b2d",
   "metadata": {},
   "outputs": [
    {
     "name": "stdout",
     "output_type": "stream",
     "text": [
      "['carrot', 'lettuce', 'onion', 'apple', 'orange', 'banana', 'avocado']\n",
      "['apple', 'avocado', 'banana', 'carrot', 'lettuce', 'onion', 'orange']\n"
     ]
    }
   ],
   "source": [
    "print(vegie)\n",
    "print(sorted(vegie))"
   ]
  },
  {
   "cell_type": "code",
   "execution_count": 49,
   "id": "c32c5cf2-d6ae-4d57-9f28-5d61ee439f99",
   "metadata": {},
   "outputs": [
    {
     "data": {
      "text/plain": [
       "['carrot', 'lettuce', 'onion']"
      ]
     },
     "execution_count": 49,
     "metadata": {},
     "output_type": "execute_result"
    }
   ],
   "source": [
    "vegie"
   ]
  },
  {
   "cell_type": "markdown",
   "id": "06a3d727-9d1b-4509-913c-95550067d325",
   "metadata": {},
   "source": [
    "__QUESTION:__ 10 minutes<br>\n",
    "- Insert value 'berry' into the __vegie__ list, so the value is between __apple__ & __orange__.<br> Expected results ['carrot', 'lettuce', 'onion', 'apple', 'berry', 'orange', 'banana', 'avocado'] "
   ]
  },
  {
   "cell_type": "code",
   "execution_count": 50,
   "id": "46a81370-71fc-4154-8ed7-b7446c95d433",
   "metadata": {},
   "outputs": [],
   "source": [
    "# Answer\n",
    "vegie.insert(2, 'coconut')"
   ]
  },
  {
   "cell_type": "code",
   "execution_count": 51,
   "id": "5a20bdda-8a0d-4155-a50a-50b86d8c34b2",
   "metadata": {},
   "outputs": [
    {
     "data": {
      "text/plain": [
       "['carrot', 'lettuce', 'coconut', 'onion']"
      ]
     },
     "execution_count": 51,
     "metadata": {},
     "output_type": "execute_result"
    }
   ],
   "source": [
    "vegie"
   ]
  },
  {
   "cell_type": "markdown",
   "id": "04dbd5d0-b9ca-4587-b016-ae167bab37cd",
   "metadata": {},
   "source": [
    "## __2. Tuple__"
   ]
  },
  {
   "cell_type": "code",
   "execution_count": 93,
   "id": "b09f28d4-d71d-449d-a48c-8a46973b8103",
   "metadata": {},
   "outputs": [
    {
     "name": "stdout",
     "output_type": "stream",
     "text": [
      "['carrot', 'lettuce', 'coconut', 'onion'] <class 'list'>\n"
     ]
    }
   ],
   "source": [
    "print(vegie, type(vegie))"
   ]
  },
  {
   "cell_type": "code",
   "execution_count": 95,
   "id": "ac4ce572-d8ab-4db2-b9f8-8b06fb5c3794",
   "metadata": {},
   "outputs": [
    {
     "name": "stdout",
     "output_type": "stream",
     "text": [
      "('carrot', 'lettuce', 'coconut', 'onion') <class 'tuple'>\n"
     ]
    }
   ],
   "source": [
    "tup_vegie = tuple(vegie)\n",
    "print(tup_vegie, type(tup_vegie))"
   ]
  },
  {
   "cell_type": "code",
   "execution_count": 110,
   "id": "1b760ea2-cda7-4338-bf26-4977c719d3c8",
   "metadata": {},
   "outputs": [],
   "source": [
    "name = tup_vegie[0]"
   ]
  },
  {
   "cell_type": "code",
   "execution_count": 111,
   "id": "22b03153-9b50-47b5-9e42-4ea97edd9ba9",
   "metadata": {},
   "outputs": [
    {
     "data": {
      "text/plain": [
       "'carrot'"
      ]
     },
     "execution_count": 111,
     "metadata": {},
     "output_type": "execute_result"
    }
   ],
   "source": [
    "name"
   ]
  },
  {
   "cell_type": "code",
   "execution_count": 112,
   "id": "5fb26435-29e9-4b31-ac0e-63effb6343d8",
   "metadata": {},
   "outputs": [
    {
     "data": {
      "text/plain": [
       "['carrot', 'lettuce', 'coconut', 'onion']"
      ]
     },
     "execution_count": 112,
     "metadata": {},
     "output_type": "execute_result"
    }
   ],
   "source": [
    "vegie"
   ]
  },
  {
   "cell_type": "code",
   "execution_count": 113,
   "id": "8c24b9f8-014d-41db-988c-7a71ef2e7e2d",
   "metadata": {},
   "outputs": [],
   "source": [
    "price = [5, 2, 4] "
   ]
  },
  {
   "cell_type": "code",
   "execution_count": 118,
   "id": "e889f392-d64d-4d34-b444-5f7d405646ca",
   "metadata": {},
   "outputs": [
    {
     "data": {
      "text/plain": [
       "[('carrot', 5), ('lettuce', 2), ('coconut', 4)]"
      ]
     },
     "execution_count": 118,
     "metadata": {},
     "output_type": "execute_result"
    }
   ],
   "source": [
    "monday_price = list(zip(vegie, price))\n",
    "monday_price"
   ]
  },
  {
   "cell_type": "code",
   "execution_count": 119,
   "id": "9eed835b-b6fe-45b3-be37-5ca2bfa625a3",
   "metadata": {},
   "outputs": [
    {
     "data": {
      "text/plain": [
       "('carrot', 5)"
      ]
     },
     "execution_count": 119,
     "metadata": {},
     "output_type": "execute_result"
    }
   ],
   "source": [
    "monday_price[0]"
   ]
  },
  {
   "cell_type": "code",
   "execution_count": 120,
   "id": "25fd7c5a-b9db-41a7-82a9-6e1b6212af89",
   "metadata": {},
   "outputs": [
    {
     "name": "stdout",
     "output_type": "stream",
     "text": [
      "carrot\n",
      "5\n"
     ]
    }
   ],
   "source": [
    "monday_produce, monday_produce_price = monday_price[0]\n",
    "\n",
    "print(monday_produce)\n",
    "print(monday_produce_price)"
   ]
  },
  {
   "cell_type": "code",
   "execution_count": 121,
   "id": "8dd17534-e654-47b4-ba81-da0bedfe0a69",
   "metadata": {},
   "outputs": [],
   "source": [
    "produce_list = []\n",
    "price_list = []\n",
    "\n",
    "for produce, price in monday_price:\n",
    "    produce_list.append(produce)\n",
    "    price_list.append(price)\n"
   ]
  },
  {
   "cell_type": "code",
   "execution_count": 122,
   "id": "14ca4678-3388-42cf-9af9-bf54f9a806b5",
   "metadata": {},
   "outputs": [
    {
     "data": {
      "text/plain": [
       "['carrot', 'lettuce', 'coconut']"
      ]
     },
     "execution_count": 122,
     "metadata": {},
     "output_type": "execute_result"
    }
   ],
   "source": [
    "produce_list"
   ]
  },
  {
   "cell_type": "code",
   "execution_count": 123,
   "id": "ed9c60fe-16ae-4ac6-afc3-153fad60342f",
   "metadata": {},
   "outputs": [
    {
     "data": {
      "text/plain": [
       "[5, 2, 4]"
      ]
     },
     "execution_count": 123,
     "metadata": {},
     "output_type": "execute_result"
    }
   ],
   "source": [
    "price_list"
   ]
  },
  {
   "cell_type": "code",
   "execution_count": null,
   "id": "59fd0d29-5922-408e-a95a-c3c41770c504",
   "metadata": {},
   "outputs": [],
   "source": []
  },
  {
   "cell_type": "code",
   "execution_count": null,
   "id": "01cc5778-5506-4712-b0d0-f8b4f7d3df6d",
   "metadata": {},
   "outputs": [],
   "source": []
  },
  {
   "cell_type": "code",
   "execution_count": null,
   "id": "336c7908-0298-4057-9497-6992572cd9cb",
   "metadata": {},
   "outputs": [],
   "source": []
  },
  {
   "cell_type": "code",
   "execution_count": null,
   "id": "be2de557-5d14-441c-9f81-bc8563059706",
   "metadata": {},
   "outputs": [],
   "source": []
  },
  {
   "cell_type": "code",
   "execution_count": null,
   "id": "4c9feb12-bd17-4865-a05f-ce71c08c17d6",
   "metadata": {},
   "outputs": [],
   "source": []
  },
  {
   "cell_type": "code",
   "execution_count": null,
   "id": "df51d489-bf5c-4b4c-8d4b-6fbd4b067944",
   "metadata": {},
   "outputs": [],
   "source": []
  },
  {
   "cell_type": "code",
   "execution_count": 102,
   "id": "9d54b90f-dcf7-41f4-89eb-8a08cddbda82",
   "metadata": {},
   "outputs": [
    {
     "data": {
      "text/plain": [
       "[('Monday', '100'),\n",
       " ('Tuesday', '80'),\n",
       " ('Wednesday', '90'),\n",
       " ('Thursday', '110'),\n",
       " ('Friday', '150'),\n",
       " ('Saturday', '200'),\n",
       " ('Sunday', '180')]"
      ]
     },
     "execution_count": 102,
     "metadata": {},
     "output_type": "execute_result"
    }
   ],
   "source": [
    "days = ['Monday', 'Tuesday', 'Wednesday', 'Thursday', 'Friday', 'Saturday', 'Sunday']\n",
    "sales = ['100', '80', '90', '110', '150', '200', '180']\n",
    "\n",
    "sale_by_day = list(zip(days, sales))    #[*zip(days, sales)]\n",
    "sale_by_day\n",
    "\n",
    "\n",
    "# Tuple errors with trailing commas\n",
    "# name = 'Jon'\n",
    "# age = '8',\n"
   ]
  },
  {
   "cell_type": "markdown",
   "id": "b761382b-afb0-4d9f-a534-48b5900d77b9",
   "metadata": {},
   "source": [
    "__Unpacking tuple__"
   ]
  },
  {
   "cell_type": "code",
   "execution_count": 13,
   "id": "0cd5d6ad-b01b-4adc-a17e-452cb5d04ef3",
   "metadata": {},
   "outputs": [
    {
     "name": "stdout",
     "output_type": "stream",
     "text": [
      "Monday\n",
      "100\n"
     ]
    }
   ],
   "source": [
    "# Using index\n",
    "monday, monday_sales = sale_by_day[0]\n",
    "print(monday)\n",
    "print(monday_sales)"
   ]
  },
  {
   "cell_type": "code",
   "execution_count": 19,
   "id": "ba5c42af-b66a-44f0-9758-c826e74ef92f",
   "metadata": {},
   "outputs": [],
   "source": [
    "# Using Loops\n",
    "day_list = []\n",
    "sale_list = []\n",
    "\n",
    "for day, sale in sale_by_day:\n",
    "    day_list.append(day)\n",
    "    sale_list.append(sale)"
   ]
  },
  {
   "cell_type": "code",
   "execution_count": 33,
   "id": "f14ad1a7-3189-4a1f-a43e-24a2a3140fe3",
   "metadata": {},
   "outputs": [
    {
     "name": "stdout",
     "output_type": "stream",
     "text": [
      "0 Monday 100\n",
      "1 Tuesday 80\n",
      "2 Wednesday 90\n",
      "3 Thursday 110\n",
      "4 Friday 150\n",
      "5 Saturday 200\n",
      "6 Sunday 180\n"
     ]
    }
   ],
   "source": [
    "# Using For Loops with enumerate()\n",
    "for i, v in enumerate(sale_by_day):\n",
    "    day, sale = v\n",
    "    print(i, day, sale)"
   ]
  },
  {
   "cell_type": "markdown",
   "id": "3b21c7a4-4222-408d-aaca-1abd5fe8559b",
   "metadata": {},
   "source": [
    "## __3. Set__"
   ]
  },
  {
   "cell_type": "code",
   "execution_count": 84,
   "id": "df031342-f79e-4559-a99d-3d2a2444b69d",
   "metadata": {},
   "outputs": [
    {
     "name": "stdout",
     "output_type": "stream",
     "text": [
      "{'cat', 'fish', 'dog'}\n"
     ]
    }
   ],
   "source": [
    "animal = ['dog', 'cat', 'fish', 'cat', 'dog']\n",
    "\n",
    "\n",
    "\n",
    "animal = set(animal)\n",
    "\n",
    "print(animal)"
   ]
  },
  {
   "cell_type": "markdown",
   "id": "1187fc5f-75a8-4b95-be20-76206ea51479",
   "metadata": {},
   "source": [
    "__Add data into set__"
   ]
  },
  {
   "cell_type": "code",
   "execution_count": 73,
   "id": "377c00d8-aa66-4dea-a0da-7ec40329f8de",
   "metadata": {},
   "outputs": [],
   "source": [
    "# use .add() or .update()\n",
    "animal.add('bird')\n",
    "\n",
    "# animal.update(['monkey'])"
   ]
  },
  {
   "cell_type": "code",
   "execution_count": 74,
   "id": "75a8f211-7d02-4b86-9a0d-e9607cfdeccc",
   "metadata": {},
   "outputs": [
    {
     "data": {
      "text/plain": [
       "{'bird', 'cat', 'dog', 'fish'}"
      ]
     },
     "execution_count": 74,
     "metadata": {},
     "output_type": "execute_result"
    }
   ],
   "source": [
    "animal"
   ]
  },
  {
   "cell_type": "markdown",
   "id": "0550c795-8522-4e19-8375-b437308d18f5",
   "metadata": {},
   "source": [
    "__Removing data from sets__"
   ]
  },
  {
   "cell_type": "code",
   "execution_count": 75,
   "id": "d14c0408-4b76-4c3d-bd8d-6505bb3813b3",
   "metadata": {},
   "outputs": [],
   "source": [
    "# Use .pop() or .discard()\n",
    "animal.discard('fish')"
   ]
  },
  {
   "cell_type": "code",
   "execution_count": 76,
   "id": "e73da274-a6b8-4c75-8d6e-972577a1a988",
   "metadata": {},
   "outputs": [
    {
     "data": {
      "text/plain": [
       "{'bird', 'cat', 'dog'}"
      ]
     },
     "execution_count": 76,
     "metadata": {},
     "output_type": "execute_result"
    }
   ],
   "source": [
    "animal"
   ]
  },
  {
   "cell_type": "markdown",
   "id": "11a468a8-6a47-4260-80f5-8a420d29dd9c",
   "metadata": {},
   "source": [
    "__Set Operations__"
   ]
  },
  {
   "cell_type": "code",
   "execution_count": 78,
   "id": "1e654b26-b4a2-44fc-81ab-f38225a85593",
   "metadata": {},
   "outputs": [
    {
     "data": {
      "text/plain": [
       "{'Fri', 'Mon', 'Sat', 'Sun', 'Thurs', 'Tue', 'Wed'}"
      ]
     },
     "execution_count": 78,
     "metadata": {},
     "output_type": "execute_result"
    }
   ],
   "source": [
    "a_store = set(['Mon', 'Tue', 'Fri', 'Sat', 'Sun'])\n",
    "b_store = set(['Mon', 'Tue', 'Wed', 'Thurs', 'Fri'])\n",
    "\n",
    "\n",
    "# Set of all values\n",
    "a_store.union(b_store)"
   ]
  },
  {
   "cell_type": "code",
   "execution_count": 79,
   "id": "36e0a9df-ef89-4541-be1f-247600e3454d",
   "metadata": {},
   "outputs": [
    {
     "data": {
      "text/plain": [
       "{'Fri', 'Mon', 'Tue'}"
      ]
     },
     "execution_count": 79,
     "metadata": {},
     "output_type": "execute_result"
    }
   ],
   "source": [
    "# Set of all overlapping values\n",
    "a_store.intersection(b_store)"
   ]
  },
  {
   "cell_type": "code",
   "execution_count": 80,
   "id": "a5d31831-fcde-49ac-8f73-b0efd9a46f02",
   "metadata": {},
   "outputs": [
    {
     "data": {
      "text/plain": [
       "{'Sat', 'Sun'}"
      ]
     },
     "execution_count": 80,
     "metadata": {},
     "output_type": "execute_result"
    }
   ],
   "source": [
    "# Find the difference as to the target\n",
    "a_store.difference(b_store)"
   ]
  },
  {
   "cell_type": "code",
   "execution_count": 81,
   "id": "dcdc8855-4317-4456-b30f-93739911a1a9",
   "metadata": {},
   "outputs": [
    {
     "data": {
      "text/plain": [
       "{'Thurs', 'Wed'}"
      ]
     },
     "execution_count": 81,
     "metadata": {},
     "output_type": "execute_result"
    }
   ],
   "source": [
    "b_store.difference(a_store)"
   ]
  },
  {
   "cell_type": "markdown",
   "id": "70f6511a-9491-484a-8cd0-3e6ffff468d6",
   "metadata": {},
   "source": [
    "## __4. Dictionaries__"
   ]
  },
  {
   "cell_type": "code",
   "execution_count": 124,
   "id": "eeeb25a5-c9f0-4e26-9568-9d2184d9e5d5",
   "metadata": {},
   "outputs": [],
   "source": [
    "female_baby_names = {1: 'EMMA', 2: 'LEAH', 3: 'SARAH', 4: 'SOPHIA', 5: 'Scarlett'}"
   ]
  },
  {
   "cell_type": "code",
   "execution_count": 125,
   "id": "5741fbb4-cd96-4f6e-a2df-fcb6d672fee4",
   "metadata": {},
   "outputs": [
    {
     "data": {
      "text/plain": [
       "dict"
      ]
     },
     "execution_count": 125,
     "metadata": {},
     "output_type": "execute_result"
    }
   ],
   "source": [
    "type(female_baby_names)"
   ]
  },
  {
   "cell_type": "code",
   "execution_count": 126,
   "id": "33338e51-9c8f-4814-b9d8-3aafd2f9eff4",
   "metadata": {},
   "outputs": [
    {
     "data": {
      "text/plain": [
       "{1: 'EMMA', 2: 'LEAH', 3: 'SARAH', 4: 'SOPHIA', 5: 'Scarlett'}"
      ]
     },
     "execution_count": 126,
     "metadata": {},
     "output_type": "execute_result"
    }
   ],
   "source": [
    "female_baby_names"
   ]
  },
  {
   "cell_type": "markdown",
   "id": "f169d44f-1df0-4c47-bc99-8dc1a9b39c33",
   "metadata": {},
   "source": [
    "__Altering Dictionaries__"
   ]
  },
  {
   "cell_type": "code",
   "execution_count": 127,
   "id": "c471e177-775e-44e8-b33e-6ce225d1b09c",
   "metadata": {},
   "outputs": [],
   "source": [
    "# Adding values into dict\n",
    "name = {6: 'Mary'}\n",
    "female_baby_names.update(name)"
   ]
  },
  {
   "cell_type": "code",
   "execution_count": 128,
   "id": "b700d9d3-2baf-470f-a55e-2984b049190f",
   "metadata": {},
   "outputs": [
    {
     "data": {
      "text/plain": [
       "{1: 'EMMA', 2: 'LEAH', 3: 'SARAH', 4: 'SOPHIA', 5: 'Scarlett', 6: 'Mary'}"
      ]
     },
     "execution_count": 128,
     "metadata": {},
     "output_type": "execute_result"
    }
   ],
   "source": [
    "female_baby_names"
   ]
  },
  {
   "cell_type": "code",
   "execution_count": 129,
   "id": "cfe966fb-b99d-4da3-b956-2dfc912521b7",
   "metadata": {},
   "outputs": [],
   "source": [
    "female_baby_names.update({6: 'Lily'})"
   ]
  },
  {
   "cell_type": "code",
   "execution_count": 130,
   "id": "a3f1c485-40e1-4034-948f-6b1ec2a1a25a",
   "metadata": {},
   "outputs": [
    {
     "data": {
      "text/plain": [
       "{1: 'EMMA', 2: 'LEAH', 3: 'SARAH', 4: 'SOPHIA', 5: 'Scarlett', 6: 'Lily'}"
      ]
     },
     "execution_count": 130,
     "metadata": {},
     "output_type": "execute_result"
    }
   ],
   "source": [
    "female_baby_names"
   ]
  },
  {
   "cell_type": "code",
   "execution_count": 131,
   "id": "ccea9eaa-9b4c-4ff8-84db-d3caf607e7a2",
   "metadata": {},
   "outputs": [
    {
     "data": {
      "text/plain": [
       "'SOPHIA'"
      ]
     },
     "execution_count": 131,
     "metadata": {},
     "output_type": "execute_result"
    }
   ],
   "source": [
    "# Remove values from dict\n",
    "female_baby_names.pop(4)"
   ]
  },
  {
   "cell_type": "code",
   "execution_count": 141,
   "id": "aab314e1-ce68-4c6e-8f66-f1f166671fd0",
   "metadata": {},
   "outputs": [
    {
     "data": {
      "text/plain": [
       "{1: 'EMMA', 2: 'LEAH', 3: 'SARAH', 5: 'Scarlett', 6: 'Lily'}"
      ]
     },
     "execution_count": 141,
     "metadata": {},
     "output_type": "execute_result"
    }
   ],
   "source": [
    "female_baby_names"
   ]
  },
  {
   "cell_type": "code",
   "execution_count": 140,
   "id": "c5982c6d-a317-44f6-87b7-97544d1e95d8",
   "metadata": {},
   "outputs": [
    {
     "data": {
      "text/plain": [
       "'Key not available'"
      ]
     },
     "execution_count": 140,
     "metadata": {},
     "output_type": "execute_result"
    }
   ],
   "source": [
    "# Extract values from dict (Safe method)\n",
    "name = female_baby_names.get(10, 'Key not available')\n",
    "name"
   ]
  },
  {
   "cell_type": "code",
   "execution_count": 146,
   "id": "dfda7f04-8f0e-420d-81a0-ed90fa349105",
   "metadata": {},
   "outputs": [
    {
     "name": "stdout",
     "output_type": "stream",
     "text": [
      "1\n",
      "2\n",
      "3\n",
      "5\n",
      "6\n"
     ]
    }
   ],
   "source": [
    "for key in female_baby_names.keys():\n",
    "    print(key)"
   ]
  },
  {
   "cell_type": "code",
   "execution_count": 147,
   "id": "ffdc585a-d791-4d99-90c0-b8edc4207123",
   "metadata": {},
   "outputs": [
    {
     "name": "stdout",
     "output_type": "stream",
     "text": [
      "EMMA\n",
      "LEAH\n",
      "SARAH\n",
      "Scarlett\n",
      "Lily\n"
     ]
    }
   ],
   "source": [
    "for key in female_baby_names.values():\n",
    "    print(key)"
   ]
  },
  {
   "cell_type": "code",
   "execution_count": 148,
   "id": "797ea257-293d-49f1-9870-de482d4dbe2c",
   "metadata": {},
   "outputs": [
    {
     "name": "stdout",
     "output_type": "stream",
     "text": [
      "(1, 'EMMA')\n",
      "(2, 'LEAH')\n",
      "(3, 'SARAH')\n",
      "(5, 'Scarlett')\n",
      "(6, 'Lily')\n"
     ]
    }
   ],
   "source": [
    "for key in female_baby_names.items():\n",
    "    print(key)"
   ]
  },
  {
   "cell_type": "code",
   "execution_count": null,
   "id": "0d53e0e0-450f-4e11-b63d-b951fc994ced",
   "metadata": {},
   "outputs": [],
   "source": []
  },
  {
   "cell_type": "code",
   "execution_count": 209,
   "id": "eee34da1-bc3f-4dcc-8537-065c217a62cd",
   "metadata": {},
   "outputs": [],
   "source": [
    "def get_rank(name_value):\n",
    "    for rank, name in female_baby_names.items():\n",
    "        if name == name_value:\n",
    "            print(rank)"
   ]
  },
  {
   "cell_type": "code",
   "execution_count": 210,
   "id": "09d5d438-4bc9-45af-b513-bfccb88e9012",
   "metadata": {},
   "outputs": [
    {
     "name": "stdout",
     "output_type": "stream",
     "text": [
      "3\n"
     ]
    }
   ],
   "source": [
    "get_rank('SARAH')"
   ]
  },
  {
   "cell_type": "code",
   "execution_count": null,
   "id": "a7d8290a-53b4-4559-b451-ee6da0da90ea",
   "metadata": {},
   "outputs": [],
   "source": []
  },
  {
   "cell_type": "code",
   "execution_count": null,
   "id": "ee179885-4334-495a-a809-859ca5ee7cb5",
   "metadata": {},
   "outputs": [],
   "source": []
  },
  {
   "cell_type": "code",
   "execution_count": null,
   "id": "da736db8-f478-4ccd-af07-5d52a6891c97",
   "metadata": {},
   "outputs": [],
   "source": []
  },
  {
   "cell_type": "code",
   "execution_count": null,
   "id": "6f395b42-5500-48be-bbd6-ce693c435b5d",
   "metadata": {},
   "outputs": [],
   "source": []
  },
  {
   "cell_type": "markdown",
   "id": "6aa76344-8801-4443-bca1-8d93b24a629e",
   "metadata": {},
   "source": [
    "__Dictionary Attributes__"
   ]
  },
  {
   "cell_type": "code",
   "execution_count": 134,
   "id": "7eed25bf-5100-4b02-8aa3-67ebe537a527",
   "metadata": {},
   "outputs": [
    {
     "name": "stdout",
     "output_type": "stream",
     "text": [
      "2 LEAH\n",
      "3 SARAH\n",
      "4 SOPHIA\n",
      "5 Scarlett\n"
     ]
    }
   ],
   "source": [
    "# Extract values using for loops and items() method\n",
    "for key, value in female_baby_names.items():\n",
    "    print(key, value)"
   ]
  },
  {
   "cell_type": "code",
   "execution_count": 217,
   "id": "5ce99190-0bd3-4ddb-a439-5d1d809c1c78",
   "metadata": {},
   "outputs": [
    {
     "name": "stdout",
     "output_type": "stream",
     "text": [
      "Scarlett\n"
     ]
    }
   ],
   "source": [
    "# Checking dictionaries for data by keys\n",
    "if 5 in female_baby_names.keys():\n",
    "    print(female_baby_names[5])\n",
    "else:\n",
    "    print('Not Available')"
   ]
  },
  {
   "cell_type": "code",
   "execution_count": 210,
   "id": "46db8b28-bd41-4274-84f4-9b1b937127d0",
   "metadata": {},
   "outputs": [
    {
     "name": "stdout",
     "output_type": "stream",
     "text": [
      "Yes\n"
     ]
    }
   ],
   "source": [
    "# Checking dictionaries for data by values\n",
    "if 'Scarlett' in female_baby_names.values():\n",
    "    print('Yes')\n",
    "else:\n",
    "    print('No')"
   ]
  },
  {
   "cell_type": "code",
   "execution_count": 211,
   "id": "a334f5f0-083a-49ed-beb6-bcaf3d6a666f",
   "metadata": {},
   "outputs": [
    {
     "data": {
      "text/plain": [
       "dict_items([(1, 'EMMA'), (2, 'LEAH'), (3, 'SARAH'), (5, 'Scarlett'), (6, 'Lily')])"
      ]
     },
     "execution_count": 211,
     "metadata": {},
     "output_type": "execute_result"
    }
   ],
   "source": [
    "female_baby_names.items()"
   ]
  },
  {
   "cell_type": "code",
   "execution_count": 214,
   "id": "c74057d9-3ad3-40c7-b851-c81847e23ea6",
   "metadata": {},
   "outputs": [
    {
     "name": "stdout",
     "output_type": "stream",
     "text": [
      "NA\n",
      "NA\n",
      "NA\n",
      "NA\n",
      "NA\n"
     ]
    }
   ],
   "source": [
    "# Questions: find a value inside a dictionary and print key\n",
    "for key, value in female_baby_names.items():\n",
    "    if 'leah' in value.lower():   \n",
    "        print(f'Value found at key: {key}')\n",
    "    else:\n",
    "        print('NA')        "
   ]
  },
  {
   "cell_type": "code",
   "execution_count": 220,
   "id": "9e7ce1ca-cbc5-4fff-bd8c-e6a443b49d74",
   "metadata": {},
   "outputs": [
    {
     "name": "stdout",
     "output_type": "stream",
     "text": [
      "6\n"
     ]
    }
   ],
   "source": [
    "for key, value in female_baby_names.items():\n",
    "    if 'lily' in value.lower():\n",
    "        print(key)\n",
    "        \n",
    "    "
   ]
  },
  {
   "cell_type": "code",
   "execution_count": null,
   "id": "2af349d9-49d3-41b2-9a67-919e3be0f09a",
   "metadata": {},
   "outputs": [],
   "source": []
  }
 ],
 "metadata": {
  "kernelspec": {
   "display_name": "Python 3",
   "language": "python",
   "name": "python3"
  },
  "language_info": {
   "codemirror_mode": {
    "name": "ipython",
    "version": 3
   },
   "file_extension": ".py",
   "mimetype": "text/x-python",
   "name": "python",
   "nbconvert_exporter": "python",
   "pygments_lexer": "ipython3",
   "version": "3.9.2"
  }
 },
 "nbformat": 4,
 "nbformat_minor": 5
}
