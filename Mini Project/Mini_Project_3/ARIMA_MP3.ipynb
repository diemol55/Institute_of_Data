{
 "cells": [
  {
   "cell_type": "code",
   "execution_count": null,
   "id": "5a960d3b-30f4-4df8-9b8a-1e511bf4bdc6",
   "metadata": {},
   "outputs": [],
   "source": [
    "import numpy as np\n",
    "import scipy as sp\n",
    "import pandas as pd\n",
    "from pandas.plotting import autocorrelation_plot\n",
    "from datetime import datetime\n",
    "from datetime import timedelta\n",
    "import statsmodels\n",
    "import os\n",
    "import sys\n",
    "import time\n",
    "import requests\n",
    "import datetime\n",
    "import matplotlib.pyplot as plt\n",
    "import seaborn as sns\n",
    "from sklearn import linear_model\n",
    "from pylab import rcParams\n",
    "import itertools\n",
    "import statsmodels.tsa.api as smt\n",
    "from itertools import product\n",
    "import statsmodels.api as sm\n",
    "from pmdarima import auto_arima\n",
    "from statsmodels.tsa.statespace.sarimax import SARIMAX\n",
    "\n",
    "rcParams['figure.figsize'] = 11, 9"
   ]
  },
  {
   "cell_type": "code",
   "execution_count": null,
   "id": "11bff836-15d1-43b9-9ea5-51de660a2f37",
   "metadata": {},
   "outputs": [],
   "source": [
    "df_TR = pd.read_csv('Transactions.csv', parse_dates = ['TransactionDate'], index_col='TransactionDate', dayfirst = True)\n",
    "df_TR.head()"
   ]
  }
 ],
 "metadata": {
  "kernelspec": {
   "display_name": "Python 3",
   "language": "python",
   "name": "python3"
  },
  "language_info": {
   "codemirror_mode": {
    "name": "ipython",
    "version": 3
   },
   "file_extension": ".py",
   "mimetype": "text/x-python",
   "name": "python",
   "nbconvert_exporter": "python",
   "pygments_lexer": "ipython3",
   "version": "3.8.8"
  }
 },
 "nbformat": 4,
 "nbformat_minor": 5
}
