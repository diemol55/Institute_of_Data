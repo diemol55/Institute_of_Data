{
 "cells": [
  {
   "cell_type": "code",
   "execution_count": 1,
   "id": "0c180884-6de9-41b3-8485-3913227b9045",
   "metadata": {
    "id": "0c180884-6de9-41b3-8485-3913227b9045"
   },
   "outputs": [],
   "source": [
    "%config Completer.use_jedi = False"
   ]
  },
  {
   "cell_type": "code",
   "execution_count": 5,
   "id": "e845d1a0-0469-4253-9e93-1f55cbc93af5",
   "metadata": {
    "colab": {
     "base_uri": "https://localhost:8080/"
    },
    "executionInfo": {
     "elapsed": 14,
     "status": "ok",
     "timestamp": 1626305488351,
     "user": {
      "displayName": "Diego Molina",
      "photoUrl": "https://lh3.googleusercontent.com/a-/AOh14GgmR5fXDAtbrJoPP8uhyfNhvGvql_FG8J5NfJpbi7s=s64",
      "userId": "00768496642516623117"
     },
     "user_tz": -600
    },
    "id": "e845d1a0-0469-4253-9e93-1f55cbc93af5",
    "outputId": "fe8a6c11-14fb-499d-80ad-e414ca432696"
   },
   "outputs": [],
   "source": [
    "import numpy as np\n",
    "import pandas as pd\n",
    "import seaborn as sns\n",
    "from matplotlib import pyplot as plt\n",
    "\n",
    "# Google Drive Mount\n",
    "# from google.colab import drive \n",
    "# drive.mount('/content/gdrive')"
   ]
  },
  {
   "cell_type": "code",
   "execution_count": 7,
   "id": "2faaf52c-a36a-46ff-ab77-7dff54a3fd6f",
   "metadata": {
    "executionInfo": {
     "elapsed": 764,
     "status": "ok",
     "timestamp": 1626305494901,
     "user": {
      "displayName": "Diego Molina",
      "photoUrl": "https://lh3.googleusercontent.com/a-/AOh14GgmR5fXDAtbrJoPP8uhyfNhvGvql_FG8J5NfJpbi7s=s64",
      "userId": "00768496642516623117"
     },
     "user_tz": -600
    },
    "id": "2faaf52c-a36a-46ff-ab77-7dff54a3fd6f"
   },
   "outputs": [],
   "source": [
    "# Linux PC Read CSV\n",
    "csv = pd.read_csv('/home/diemol/Insync/diemol55@gmail.com/Google Drive/Institute_of_Data/DATA/Mini Project Data/Stock_Movement.csv')\n",
    "# Colab Read CSV\n",
    "# csv = pd.read_csv('/content/gdrive/MyDrive/Institute_of_Data/DATA/Mini Project Data/Stock_Movement.csv', encoding='cp1252')"
   ]
  },
  {
   "cell_type": "code",
   "execution_count": null,
   "id": "31e07e0c-dc18-47c8-9f31-70f3182aa5dd",
   "metadata": {
    "colab": {
     "base_uri": "https://localhost:8080/"
    },
    "executionInfo": {
     "elapsed": 285,
     "status": "ok",
     "timestamp": 1626305497132,
     "user": {
      "displayName": "Diego Molina",
      "photoUrl": "https://lh3.googleusercontent.com/a-/AOh14GgmR5fXDAtbrJoPP8uhyfNhvGvql_FG8J5NfJpbi7s=s64",
      "userId": "00768496642516623117"
     },
     "user_tz": -600
    },
    "id": "31e07e0c-dc18-47c8-9f31-70f3182aa5dd",
    "outputId": "99d088ad-2347-485a-ca83-a58c5d2b5006"
   },
   "outputs": [],
   "source": [
    "csv.shape"
   ]
  },
  {
   "cell_type": "code",
   "execution_count": null,
   "id": "1dac743d-17ec-4105-b79d-00124540b0ca",
   "metadata": {
    "colab": {
     "base_uri": "https://localhost:8080/"
    },
    "executionInfo": {
     "elapsed": 268,
     "status": "ok",
     "timestamp": 1626305366693,
     "user": {
      "displayName": "Diego Molina",
      "photoUrl": "https://lh3.googleusercontent.com/a-/AOh14GgmR5fXDAtbrJoPP8uhyfNhvGvql_FG8J5NfJpbi7s=s64",
      "userId": "00768496642516623117"
     },
     "user_tz": -600
    },
    "id": "1dac743d-17ec-4105-b79d-00124540b0ca",
    "outputId": "e8b1471d-873c-4074-a587-bb6084d30912"
   },
   "outputs": [],
   "source": [
    "csv.info()"
   ]
  },
  {
   "cell_type": "code",
   "execution_count": null,
   "id": "fef07697-7a19-41b8-800d-afd291410469",
   "metadata": {
    "colab": {
     "base_uri": "https://localhost:8080/",
     "height": 394
    },
    "executionInfo": {
     "elapsed": 282,
     "status": "ok",
     "timestamp": 1626305368889,
     "user": {
      "displayName": "Diego Molina",
      "photoUrl": "https://lh3.googleusercontent.com/a-/AOh14GgmR5fXDAtbrJoPP8uhyfNhvGvql_FG8J5NfJpbi7s=s64",
      "userId": "00768496642516623117"
     },
     "user_tz": -600
    },
    "id": "fef07697-7a19-41b8-800d-afd291410469",
    "outputId": "04828f37-13ab-41d7-ddd4-1bc785266b98"
   },
   "outputs": [],
   "source": [
    "csv.head()"
   ]
  },
  {
   "cell_type": "code",
   "execution_count": null,
   "id": "d991529f-9458-44a7-8e23-7add6e50425c",
   "metadata": {
    "id": "d991529f-9458-44a7-8e23-7add6e50425c"
   },
   "outputs": [],
   "source": [
    "# Test for subseting not including -R\n",
    "Stock_QTY = pd.DataFrame(csv['Part'].value_counts())\n",
    "Stock_QTY[Stock_QTY.index.astype('str').str.endswith('-R')!=True]"
   ]
  },
  {
   "cell_type": "code",
   "execution_count": null,
   "id": "94195018-2a4f-4bfa-88ee-8f181cbefe3a",
   "metadata": {
    "colab": {
     "base_uri": "https://localhost:8080/",
     "height": 419
    },
    "executionInfo": {
     "elapsed": 289,
     "status": "ok",
     "timestamp": 1626305840863,
     "user": {
      "displayName": "Diego Molina",
      "photoUrl": "https://lh3.googleusercontent.com/a-/AOh14GgmR5fXDAtbrJoPP8uhyfNhvGvql_FG8J5NfJpbi7s=s64",
      "userId": "00768496642516623117"
     },
     "user_tz": -600
    },
    "id": "94195018-2a4f-4bfa-88ee-8f181cbefe3a",
    "outputId": "bbe0d956-da07-4bf2-ef9c-299f586ad785"
   },
   "outputs": [],
   "source": [
    "Stock_QTY = Stock_QTY[Stock_QTY.index.astype('str').str.endswith('-R')!=True].drop(index=['FREIGHT','NETO FREIGHT','RENT-EXT','SEC-BOND'], axis=1)\n",
    "Stock_QTY.sort_values(by= 'Part' ,ascending=False)"
   ]
  },
  {
   "cell_type": "code",
   "execution_count": null,
   "id": "a959e1c6-92bc-4e49-a6b5-d5b6623ad3e3",
   "metadata": {
    "id": "a959e1c6-92bc-4e49-a6b5-d5b6623ad3e3"
   },
   "outputs": [],
   "source": [
    "Stock_Top_50 = Stock_QTY.head(50)\n",
    "Stock_Top_50"
   ]
  },
  {
   "cell_type": "code",
   "execution_count": null,
   "id": "3d496431-e029-48ff-ab87-455827e5dfd6",
   "metadata": {
    "colab": {
     "base_uri": "https://localhost:8080/"
    },
    "executionInfo": {
     "elapsed": 6,
     "status": "ok",
     "timestamp": 1626305377269,
     "user": {
      "displayName": "Diego Molina",
      "photoUrl": "https://lh3.googleusercontent.com/a-/AOh14GgmR5fXDAtbrJoPP8uhyfNhvGvql_FG8J5NfJpbi7s=s64",
      "userId": "00768496642516623117"
     },
     "user_tz": -600
    },
    "id": "3d496431-e029-48ff-ab87-455827e5dfd6",
    "outputId": "d7127646-cbff-4693-ebe2-4856de5984e0"
   },
   "outputs": [],
   "source": [
    "csv['Part'].unique()"
   ]
  },
  {
   "cell_type": "code",
   "execution_count": null,
   "id": "b14dbedc-a581-4c9a-aa9e-15423c94d089",
   "metadata": {
    "colab": {
     "base_uri": "https://localhost:8080/",
     "height": 297
    },
    "executionInfo": {
     "elapsed": 294,
     "status": "ok",
     "timestamp": 1626305381628,
     "user": {
      "displayName": "Diego Molina",
      "photoUrl": "https://lh3.googleusercontent.com/a-/AOh14GgmR5fXDAtbrJoPP8uhyfNhvGvql_FG8J5NfJpbi7s=s64",
      "userId": "00768496642516623117"
     },
     "user_tz": -600
    },
    "id": "b14dbedc-a581-4c9a-aa9e-15423c94d089",
    "outputId": "cb126fbf-6de7-46e0-dfb5-0568fda74868"
   },
   "outputs": [],
   "source": [
    "Stock_QTY.describe()"
   ]
  },
  {
   "cell_type": "code",
   "execution_count": null,
   "id": "81845849-c9a1-4ee1-948d-4fd035b42bb7",
   "metadata": {
    "colab": {
     "base_uri": "https://localhost:8080/",
     "height": 681
    },
    "executionInfo": {
     "elapsed": 1917,
     "status": "ok",
     "timestamp": 1626311594317,
     "user": {
      "displayName": "Diego Molina",
      "photoUrl": "https://lh3.googleusercontent.com/a-/AOh14GgmR5fXDAtbrJoPP8uhyfNhvGvql_FG8J5NfJpbi7s=s64",
      "userId": "00768496642516623117"
     },
     "user_tz": -600
    },
    "id": "81845849-c9a1-4ee1-948d-4fd035b42bb7",
    "outputId": "4a4dd3be-b8a0-4982-c97c-b673fba34fda"
   },
   "outputs": [],
   "source": [
    "sns.set_theme(style=\"whitegrid\")\n",
    "sns.barplot(Stock_Top_50['Part'], Stock_Top_50.index.astype('str'), orient = 'h',color='lightblue', data=Stock_Top_50)\n",
    "sns.set(rc={'figure.figsize':(5,10)})\n",
    "plt.title(\"Top 50 Tools\")\n",
    "plt.ylabel('Part Numbers')\n",
    "plt.xlabel('Qty Sold')\n",
    "plt.show()"
   ]
  }
 ],
 "metadata": {
  "colab": {
   "name": "Mini_Project_1.ipynb",
   "provenance": []
  },
  "kernelspec": {
   "display_name": "Python 3",
   "language": "python",
   "name": "python3"
  },
  "language_info": {
   "codemirror_mode": {
    "name": "ipython",
    "version": 3
   },
   "file_extension": ".py",
   "mimetype": "text/x-python",
   "name": "python",
   "nbconvert_exporter": "python",
   "pygments_lexer": "ipython3",
   "version": "3.8.8"
  }
 },
 "nbformat": 4,
 "nbformat_minor": 5
}
