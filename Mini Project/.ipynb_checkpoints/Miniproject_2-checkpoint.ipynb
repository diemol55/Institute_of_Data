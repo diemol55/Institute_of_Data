{
 "cells": [
  {
   "cell_type": "code",
   "execution_count": 1,
   "id": "c7cbf2db-dc75-4503-902b-0b5b53a93db9",
   "metadata": {},
   "outputs": [],
   "source": [
    "import warnings\n",
    "warnings.filterwarnings('ignore')"
   ]
  },
  {
   "cell_type": "code",
   "execution_count": 2,
   "id": "a00c3893-54b5-4486-9719-5c12e859e642",
   "metadata": {},
   "outputs": [],
   "source": [
    "import pandas as pd\n",
    "import matplotlib.pyplot as plt\n",
    "import seaborn as sns\n",
    "%matplotlib inline"
   ]
  },
  {
   "cell_type": "code",
   "execution_count": 3,
   "id": "f76f7e38-8a83-4d42-924e-477ae765ad13",
   "metadata": {},
   "outputs": [],
   "source": [
    "# Set csv path\n",
    "csv_path = '/home/diegom/Insync/Institute_of_Data/DATA/Mini Project Data/Stock_Transactions.csv'"
   ]
  },
  {
   "cell_type": "code",
   "execution_count": 4,
   "id": "cb1a1a1b-35b3-46e2-a69e-f60ae7269c4d",
   "metadata": {},
   "outputs": [],
   "source": [
    "# Create DataFrame and set TransactionDate as date time format\n",
    "stock_transactions = pd.read_csv(csv_path)\n",
    "stock_transactions['TransactionDate'] = pd.to_datetime(stock_transactions['TransactionDate'], dayfirst=True)\n",
    "stock_transactions['Qty_Sold'] = stock_transactions['Qty']*-1"
   ]
  },
  {
   "cell_type": "code",
   "execution_count": 5,
   "id": "32078a81-8baf-4ec3-9f15-0f2e688c08a1",
   "metadata": {},
   "outputs": [
    {
     "data": {
      "text/html": [
       "<div>\n",
       "<style scoped>\n",
       "    .dataframe tbody tr th:only-of-type {\n",
       "        vertical-align: middle;\n",
       "    }\n",
       "\n",
       "    .dataframe tbody tr th {\n",
       "        vertical-align: top;\n",
       "    }\n",
       "\n",
       "    .dataframe thead th {\n",
       "        text-align: right;\n",
       "    }\n",
       "</style>\n",
       "<table border=\"1\" class=\"dataframe\">\n",
       "  <thead>\n",
       "    <tr style=\"text-align: right;\">\n",
       "      <th></th>\n",
       "      <th>StockID</th>\n",
       "      <th>Part</th>\n",
       "      <th>StockDescription</th>\n",
       "      <th>TransactionID</th>\n",
       "      <th>TransactionDate</th>\n",
       "      <th>SourceTypeID</th>\n",
       "      <th>SourceType</th>\n",
       "      <th>SourceID</th>\n",
       "      <th>Reference</th>\n",
       "      <th>Detail</th>\n",
       "      <th>Qty</th>\n",
       "      <th>Cost</th>\n",
       "      <th>CostEach</th>\n",
       "      <th>Amount</th>\n",
       "      <th>NewTotalQty</th>\n",
       "      <th>DocumentID</th>\n",
       "      <th>Contact</th>\n",
       "      <th>Qty_Sold</th>\n",
       "    </tr>\n",
       "  </thead>\n",
       "  <tbody>\n",
       "    <tr>\n",
       "      <th>0</th>\n",
       "      <td>4283</td>\n",
       "      <td>10I-SERIES</td>\n",
       "      <td>NaN</td>\n",
       "      <td>5070</td>\n",
       "      <td>2020-07-31</td>\n",
       "      <td>29</td>\n",
       "      <td>Supplier Invoice</td>\n",
       "      <td>132</td>\n",
       "      <td>OT30016</td>\n",
       "      <td>104</td>\n",
       "      <td>1.0</td>\n",
       "      <td>942.85</td>\n",
       "      <td>942.85</td>\n",
       "      <td>0.0</td>\n",
       "      <td>1.0</td>\n",
       "      <td>27.0</td>\n",
       "      <td>Automotive Test Solutions - ATS</td>\n",
       "      <td>-1.0</td>\n",
       "    </tr>\n",
       "    <tr>\n",
       "      <th>1</th>\n",
       "      <td>4283</td>\n",
       "      <td>10I-SERIES</td>\n",
       "      <td>NaN</td>\n",
       "      <td>7726</td>\n",
       "      <td>2020-09-15</td>\n",
       "      <td>21</td>\n",
       "      <td>Customer Invoice</td>\n",
       "      <td>4244</td>\n",
       "      <td>OT45431</td>\n",
       "      <td>N046749</td>\n",
       "      <td>-1.0</td>\n",
       "      <td>-942.85</td>\n",
       "      <td>942.85</td>\n",
       "      <td>1450.0</td>\n",
       "      <td>0.0</td>\n",
       "      <td>1498.0</td>\n",
       "      <td>Wittaya Mala</td>\n",
       "      <td>1.0</td>\n",
       "    </tr>\n",
       "    <tr>\n",
       "      <th>2</th>\n",
       "      <td>4581</td>\n",
       "      <td>AIR-CPM-20</td>\n",
       "      <td>1/4\" Male Swivel Joint</td>\n",
       "      <td>21036</td>\n",
       "      <td>2021-04-12</td>\n",
       "      <td>29</td>\n",
       "      <td>Supplier Invoice</td>\n",
       "      <td>1644</td>\n",
       "      <td>OT30175</td>\n",
       "      <td>VTIV0004975</td>\n",
       "      <td>5.0</td>\n",
       "      <td>57.85</td>\n",
       "      <td>11.57</td>\n",
       "      <td>0.0</td>\n",
       "      <td>5.0</td>\n",
       "      <td>198.0</td>\n",
       "      <td>TENG TOOLS</td>\n",
       "      <td>-5.0</td>\n",
       "    </tr>\n",
       "    <tr>\n",
       "      <th>3</th>\n",
       "      <td>4615</td>\n",
       "      <td>AIR-CSW-02</td>\n",
       "      <td>Universal Swivel Joint - Block Style</td>\n",
       "      <td>23825</td>\n",
       "      <td>2021-05-25</td>\n",
       "      <td>29</td>\n",
       "      <td>Supplier Invoice</td>\n",
       "      <td>1759</td>\n",
       "      <td>OT30205</td>\n",
       "      <td>VITV0005582</td>\n",
       "      <td>2.0</td>\n",
       "      <td>23.74</td>\n",
       "      <td>11.87</td>\n",
       "      <td>0.0</td>\n",
       "      <td>2.0</td>\n",
       "      <td>228.0</td>\n",
       "      <td>TENG TOOLS</td>\n",
       "      <td>-2.0</td>\n",
       "    </tr>\n",
       "    <tr>\n",
       "      <th>4</th>\n",
       "      <td>1</td>\n",
       "      <td>AIR-R420FC</td>\n",
       "      <td>1/4\" Female Coupler R420FC</td>\n",
       "      <td>2513</td>\n",
       "      <td>2020-07-06</td>\n",
       "      <td>29</td>\n",
       "      <td>Supplier Invoice</td>\n",
       "      <td>2</td>\n",
       "      <td>OT30001</td>\n",
       "      <td>VTIV0001018</td>\n",
       "      <td>25.0</td>\n",
       "      <td>145.00</td>\n",
       "      <td>5.80</td>\n",
       "      <td>0.0</td>\n",
       "      <td>32.0</td>\n",
       "      <td>1.0</td>\n",
       "      <td>TENG TOOLS</td>\n",
       "      <td>-25.0</td>\n",
       "    </tr>\n",
       "  </tbody>\n",
       "</table>\n",
       "</div>"
      ],
      "text/plain": [
       "   StockID        Part                      StockDescription  TransactionID  \\\n",
       "0     4283  10I-SERIES                                   NaN           5070   \n",
       "1     4283  10I-SERIES                                   NaN           7726   \n",
       "2     4581  AIR-CPM-20                1/4\" Male Swivel Joint          21036   \n",
       "3     4615  AIR-CSW-02  Universal Swivel Joint - Block Style          23825   \n",
       "4        1  AIR-R420FC            1/4\" Female Coupler R420FC           2513   \n",
       "\n",
       "  TransactionDate  SourceTypeID        SourceType  SourceID Reference  \\\n",
       "0      2020-07-31            29  Supplier Invoice       132   OT30016   \n",
       "1      2020-09-15            21  Customer Invoice      4244   OT45431   \n",
       "2      2021-04-12            29  Supplier Invoice      1644   OT30175   \n",
       "3      2021-05-25            29  Supplier Invoice      1759   OT30205   \n",
       "4      2020-07-06            29  Supplier Invoice         2   OT30001   \n",
       "\n",
       "        Detail   Qty    Cost  CostEach  Amount  NewTotalQty  DocumentID  \\\n",
       "0          104   1.0  942.85    942.85     0.0          1.0        27.0   \n",
       "1      N046749  -1.0 -942.85    942.85  1450.0          0.0      1498.0   \n",
       "2  VTIV0004975   5.0   57.85     11.57     0.0          5.0       198.0   \n",
       "3  VITV0005582   2.0   23.74     11.87     0.0          2.0       228.0   \n",
       "4  VTIV0001018  25.0  145.00      5.80     0.0         32.0         1.0   \n",
       "\n",
       "                           Contact  Qty_Sold  \n",
       "0  Automotive Test Solutions - ATS      -1.0  \n",
       "1                     Wittaya Mala       1.0  \n",
       "2                       TENG TOOLS      -5.0  \n",
       "3                       TENG TOOLS      -2.0  \n",
       "4                       TENG TOOLS     -25.0  "
      ]
     },
     "execution_count": 5,
     "metadata": {},
     "output_type": "execute_result"
    }
   ],
   "source": [
    "stock_transactions.head()"
   ]
  },
  {
   "cell_type": "code",
   "execution_count": 6,
   "id": "2b4ac97d-8e48-4a38-a9d3-bb09197b2c8a",
   "metadata": {},
   "outputs": [
    {
     "data": {
      "text/plain": [
       "pandas.core.frame.DataFrame"
      ]
     },
     "execution_count": 6,
     "metadata": {},
     "output_type": "execute_result"
    }
   ],
   "source": [
    "type(stock_transactions)"
   ]
  },
  {
   "cell_type": "code",
   "execution_count": 9,
   "id": "d7c1b3f3-33ba-4a15-933d-b8395a2952dc",
   "metadata": {},
   "outputs": [
    {
     "data": {
      "text/plain": [
       "TransactionDate\n",
       "2020-07-24       1.0\n",
       "2020-08-05       3.0\n",
       "2020-08-06       6.0\n",
       "2020-08-11      10.0\n",
       "2020-09-09      15.0\n",
       "               ...  \n",
       "2021-06-17    1653.0\n",
       "2021-06-21    1711.0\n",
       "2021-06-25    1770.0\n",
       "2021-06-25    1830.0\n",
       "2021-06-28    1891.0\n",
       "Name: Qty_Sold, Length: 61, dtype: float64"
      ]
     },
     "execution_count": 9,
     "metadata": {},
     "output_type": "execute_result"
    }
   ],
   "source": [
    "A1784.Qty_Sold.cumsum()"
   ]
  },
  {
   "cell_type": "code",
   "execution_count": 8,
   "id": "15f5d7b0-673b-4851-8ccb-032171747b6e",
   "metadata": {},
   "outputs": [
    {
     "data": {
      "text/plain": [
       "pandas.core.series.Series"
      ]
     },
     "execution_count": 8,
     "metadata": {},
     "output_type": "execute_result"
    }
   ],
   "source": [
    "# Create a pandas series on part number A1784\n",
    "A1784 = stock_transactions[(stock_transactions['SourceTypeID'] == 21) & (stock_transactions['Part'] == 'DM11-A1784')][['TransactionDate','Qty_Sold']].set_index('TransactionDate')\n",
    "A1784['Qty_Sold'] = A1784.Qty_Sold.cumsum()\n",
    "A1784_series = A1784.squeeze()\n",
    "type(A1784_series)"
   ]
  },
  {
   "cell_type": "code",
   "execution_count": 11,
   "id": "30122e59-dfa8-448a-9cf3-0def5ab14907",
   "metadata": {},
   "outputs": [
    {
     "data": {
      "text/html": [
       "<div>\n",
       "<style scoped>\n",
       "    .dataframe tbody tr th:only-of-type {\n",
       "        vertical-align: middle;\n",
       "    }\n",
       "\n",
       "    .dataframe tbody tr th {\n",
       "        vertical-align: top;\n",
       "    }\n",
       "\n",
       "    .dataframe thead th {\n",
       "        text-align: right;\n",
       "    }\n",
       "</style>\n",
       "<table border=\"1\" class=\"dataframe\">\n",
       "  <thead>\n",
       "    <tr style=\"text-align: right;\">\n",
       "      <th></th>\n",
       "      <th>TransactionDate</th>\n",
       "      <th>Qty</th>\n",
       "    </tr>\n",
       "  </thead>\n",
       "  <tbody>\n",
       "    <tr>\n",
       "      <th>3622</th>\n",
       "      <td>2020-09-11</td>\n",
       "      <td>30.0</td>\n",
       "    </tr>\n",
       "    <tr>\n",
       "      <th>3662</th>\n",
       "      <td>2021-03-08</td>\n",
       "      <td>11.0</td>\n",
       "    </tr>\n",
       "    <tr>\n",
       "      <th>3679</th>\n",
       "      <td>2021-05-21</td>\n",
       "      <td>9.0</td>\n",
       "    </tr>\n",
       "    <tr>\n",
       "      <th>3690</th>\n",
       "      <td>2021-06-30</td>\n",
       "      <td>50.0</td>\n",
       "    </tr>\n",
       "  </tbody>\n",
       "</table>\n",
       "</div>"
      ],
      "text/plain": [
       "     TransactionDate   Qty\n",
       "3622      2020-09-11  30.0\n",
       "3662      2021-03-08  11.0\n",
       "3679      2021-05-21   9.0\n",
       "3690      2021-06-30  50.0"
      ]
     },
     "execution_count": 11,
     "metadata": {},
     "output_type": "execute_result"
    }
   ],
   "source": [
    "stock_transactions[(stock_transactions['SourceTypeID'] == 29) & (stock_transactions['Part'] == 'DM11-A1784')][['TransactionDate','Qty']]"
   ]
  },
  {
   "cell_type": "code",
   "execution_count": 54,
   "id": "a42f6b67-4598-4507-bc53-5ae15527959b",
   "metadata": {},
   "outputs": [],
   "source": [
    "new_A1784 = pd.concat([stock_transactions[(stock_transactions['SourceTypeID'] == 21) & (stock_transactions['Part'] == 'DM11-A1784')][['TransactionDate','Qty']],\n",
    "                       stock_transactions[(stock_transactions['SourceTypeID'] == 29) & (stock_transactions['Part'] == 'DM11-A1784')][['TransactionDate','Qty']]], ignore_index=True).set_index('TransactionDate').sort_index(ascending=True)\n",
    "new_A1784['Qty'] = new_A1784.Qty.cumsum()\n",
    "new_A1784_series = new_A1784.squeeze()"
   ]
  },
  {
   "cell_type": "code",
   "execution_count": 136,
   "id": "20d0ba3f-beb2-45bd-9f5c-75fdc6ddc010",
   "metadata": {},
   "outputs": [],
   "source": [
    "def days_per_sales(start_date, end_date):\n",
    "    qty_sold = new_A1784.loc[start_date] - new_A1784.iloc[new_A1784.index.get_loc(end_date)-1]\n",
    "    days_sold = new_A1784.index[new_A1784.index.get_loc(end_date)] - new_A1784.index[new_A1784.index.get_loc(start_date)]\n",
    "    days_per_sal = days_sold.days/qty_sold\n",
    "    return(days_per_sal,qty_sold)"
   ]
  },
  {
   "cell_type": "code",
   "execution_count": 138,
   "id": "4b958899-8231-4f22-b973-139109aef74b",
   "metadata": {},
   "outputs": [
    {
     "data": {
      "text/plain": [
       "(Qty    5.085714\n",
       " dtype: float64,\n",
       " Qty    35.0\n",
       " dtype: float64)"
      ]
     },
     "execution_count": 138,
     "metadata": {},
     "output_type": "execute_result"
    }
   ],
   "source": [
    "days_per_sales('2020-09-11','2021-03-08')"
   ]
  },
  {
   "cell_type": "code",
   "execution_count": 139,
   "id": "fce8ed89-5f38-4bf6-93d6-8a2dacc69676",
   "metadata": {},
   "outputs": [
    {
     "data": {
      "text/plain": [
       "(Qty    6.166667\n",
       " dtype: float64,\n",
       " Qty    12.0\n",
       " dtype: float64)"
      ]
     },
     "execution_count": 139,
     "metadata": {},
     "output_type": "execute_result"
    }
   ],
   "source": [
    "days_per_sales('2021-03-08','2021-05-21')"
   ]
  },
  {
   "cell_type": "code",
   "execution_count": 140,
   "id": "33d47196-4299-4d52-99f1-6333bd3069d8",
   "metadata": {},
   "outputs": [
    {
     "data": {
      "text/plain": [
       "(Qty    4.444444\n",
       " dtype: float64,\n",
       " Qty    9.0\n",
       " dtype: float64)"
      ]
     },
     "execution_count": 140,
     "metadata": {},
     "output_type": "execute_result"
    }
   ],
   "source": [
    "days_per_sales('2021-05-21','2021-06-30')"
   ]
  },
  {
   "cell_type": "code",
   "execution_count": 142,
   "id": "c5258037-9bb4-4481-b6cf-b2a8b8e2c75a",
   "metadata": {},
   "outputs": [
    {
     "data": {
      "text/plain": [
       "Qty    39.0\n",
       "Name: 2021-06-30 00:00:00, dtype: float64"
      ]
     },
     "execution_count": 142,
     "metadata": {},
     "output_type": "execute_result"
    }
   ],
   "source": [
    "new_A1784.loc['2021-06-30']"
   ]
  },
  {
   "cell_type": "code",
   "execution_count": 40,
   "id": "02aaa327-53a7-425e-8a6d-41dded20c412",
   "metadata": {},
   "outputs": [
    {
     "data": {
      "text/plain": [
       "Timedelta('150 days 00:00:00')"
      ]
     },
     "execution_count": 40,
     "metadata": {},
     "output_type": "execute_result"
    }
   ],
   "source": [
    "new_A1784.index[new_A1784.index.get_loc(\"2021-03-08\") - 1] - new_A1784.index[new_A1784.index.get_loc(\"2020-09-11\")]"
   ]
  },
  {
   "cell_type": "code",
   "execution_count": 254,
   "id": "2211fa88-0d21-48a1-a8ab-47f0cbd8e903",
   "metadata": {},
   "outputs": [
    {
     "data": {
      "text/plain": [
       "<AxesSubplot:xlabel='TransactionDate'>"
      ]
     },
     "execution_count": 254,
     "metadata": {},
     "output_type": "execute_result"
    },
    {
     "data": {
      "image/png": "[encoded data removed]",
      "text/plain": [
       "<Figure size 432x288 with 1 Axes>"
      ]
     },
     "metadata": {
      "needs_background": "light"
     },
     "output_type": "display_data"
    }
   ],
   "source": [
    "new_A1784_series.plot()"
   ]
  },
  {
   "cell_type": "code",
   "execution_count": 264,
   "id": "e483fa3e-02d6-46fd-8b79-dcae21b3fa7f",
   "metadata": {},
   "outputs": [
    {
     "data": {
      "text/plain": [
       "(array([21., 19.,  6.,  6.,  7.,  5.,  0.,  1.]),\n",
       " array([-11.  ,  -4.75,   1.5 ,   7.75,  14.  ,  20.25,  26.5 ,  32.75,\n",
       "         39.  ]),\n",
       " <BarContainer object of 8 artists>)"
      ]
     },
     "execution_count": 264,
     "metadata": {},
     "output_type": "execute_result"
    },
    {
     "data": {
      "image/png": "[encoded data removed]",
      "text/plain": [
       "<Figure size 432x288 with 1 Axes>"
      ]
     },
     "metadata": {
      "needs_background": "light"
     },
     "output_type": "display_data"
    }
   ],
   "source": [
    "plt.hist(new_A1784_series, bins=8)"
   ]
  },
  {
   "cell_type": "code",
   "execution_count": 256,
   "id": "3388e034-bead-4f01-8988-c86b457971a8",
   "metadata": {},
   "outputs": [
    {
     "data": {
      "text/plain": [
       "<AxesSubplot:xlabel='Qty'>"
      ]
     },
     "execution_count": 256,
     "metadata": {},
     "output_type": "execute_result"
    },
    {
     "data": {
      "image/png": "[encoded data removed]",
      "text/plain": [
       "<Figure size 432x288 with 1 Axes>"
      ]
     },
     "metadata": {
      "needs_background": "light"
     },
     "output_type": "display_data"
    }
   ],
   "source": [
    "sns.boxplot(new_A1784_series)"
   ]
  },
  {
   "cell_type": "code",
   "execution_count": 257,
   "id": "c460437b-2edf-4a69-af44-f1ecee3fcb03",
   "metadata": {},
   "outputs": [
    {
     "data": {
      "text/plain": [
       "65"
      ]
     },
     "execution_count": 257,
     "metadata": {},
     "output_type": "execute_result"
    }
   ],
   "source": [
    "new_A1784_series.size"
   ]
  },
  {
   "cell_type": "code",
   "execution_count": 258,
   "id": "8b05963f-029d-4166-bb14-4681b8eff065",
   "metadata": {},
   "outputs": [
    {
     "data": {
      "text/plain": [
       "count    65.000000\n",
       "mean      2.523077\n",
       "std      11.239033\n",
       "min     -11.000000\n",
       "25%      -6.000000\n",
       "50%      -2.000000\n",
       "75%      10.000000\n",
       "max      39.000000\n",
       "Name: Qty, dtype: float64"
      ]
     },
     "execution_count": 258,
     "metadata": {},
     "output_type": "execute_result"
    }
   ],
   "source": [
    "new_A1784_series.describe()"
   ]
  },
  {
   "cell_type": "code",
   "execution_count": 262,
   "id": "1783f9a3-ee0d-4255-bf95-ddf9172bad8d",
   "metadata": {},
   "outputs": [],
   "source": [
    "# Applying moving average\n",
    "new_A1784_ma = new_A1784_series.rolling(window=10).mean()"
   ]
  },
  {
   "cell_type": "code",
   "execution_count": 263,
   "id": "69940ac2-ed6e-4f1c-9d3f-32e985fa147e",
   "metadata": {},
   "outputs": [
    {
     "data": {
      "text/plain": [
       "<AxesSubplot:xlabel='TransactionDate'>"
      ]
     },
     "execution_count": 263,
     "metadata": {},
     "output_type": "execute_result"
    },
    {
     "data": {
      "image/png": "[encoded data removed]",
      "text/plain": [
       "<Figure size 432x288 with 1 Axes>"
      ]
     },
     "metadata": {
      "needs_background": "light"
     },
     "output_type": "display_data"
    }
   ],
   "source": [
    "new_A1784_ma.plot()"
   ]
  },
  {
   "cell_type": "code",
   "execution_count": 265,
   "id": "2c16cf3c-bb18-4b03-a742-93be5f3fc105",
   "metadata": {},
   "outputs": [
    {
     "data": {
      "text/html": [
       "<div>\n",
       "<style scoped>\n",
       "    .dataframe tbody tr th:only-of-type {\n",
       "        vertical-align: middle;\n",
       "    }\n",
       "\n",
       "    .dataframe tbody tr th {\n",
       "        vertical-align: top;\n",
       "    }\n",
       "\n",
       "    .dataframe thead th {\n",
       "        text-align: right;\n",
       "    }\n",
       "</style>\n",
       "<table border=\"1\" class=\"dataframe\">\n",
       "  <thead>\n",
       "    <tr style=\"text-align: right;\">\n",
       "      <th></th>\n",
       "      <th>Qty</th>\n",
       "      <th>Qty</th>\n",
       "    </tr>\n",
       "    <tr>\n",
       "      <th>TransactionDate</th>\n",
       "      <th></th>\n",
       "      <th></th>\n",
       "    </tr>\n",
       "  </thead>\n",
       "  <tbody>\n",
       "    <tr>\n",
       "      <th>2020-07-24</th>\n",
       "      <td>-1.0</td>\n",
       "      <td>NaN</td>\n",
       "    </tr>\n",
       "    <tr>\n",
       "      <th>2020-08-05</th>\n",
       "      <td>-2.0</td>\n",
       "      <td>-1.0</td>\n",
       "    </tr>\n",
       "    <tr>\n",
       "      <th>2020-08-06</th>\n",
       "      <td>-3.0</td>\n",
       "      <td>-2.0</td>\n",
       "    </tr>\n",
       "    <tr>\n",
       "      <th>2020-08-11</th>\n",
       "      <td>-4.0</td>\n",
       "      <td>-3.0</td>\n",
       "    </tr>\n",
       "    <tr>\n",
       "      <th>2020-09-09</th>\n",
       "      <td>-5.0</td>\n",
       "      <td>-4.0</td>\n",
       "    </tr>\n",
       "    <tr>\n",
       "      <th>...</th>\n",
       "      <td>...</td>\n",
       "      <td>...</td>\n",
       "    </tr>\n",
       "    <tr>\n",
       "      <th>2021-06-21</th>\n",
       "      <td>-8.0</td>\n",
       "      <td>-7.0</td>\n",
       "    </tr>\n",
       "    <tr>\n",
       "      <th>2021-06-25</th>\n",
       "      <td>-9.0</td>\n",
       "      <td>-8.0</td>\n",
       "    </tr>\n",
       "    <tr>\n",
       "      <th>2021-06-25</th>\n",
       "      <td>-10.0</td>\n",
       "      <td>-9.0</td>\n",
       "    </tr>\n",
       "    <tr>\n",
       "      <th>2021-06-28</th>\n",
       "      <td>-11.0</td>\n",
       "      <td>-10.0</td>\n",
       "    </tr>\n",
       "    <tr>\n",
       "      <th>2021-06-30</th>\n",
       "      <td>39.0</td>\n",
       "      <td>-11.0</td>\n",
       "    </tr>\n",
       "  </tbody>\n",
       "</table>\n",
       "<p>65 rows × 2 columns</p>\n",
       "</div>"
      ],
      "text/plain": [
       "                  Qty   Qty\n",
       "TransactionDate            \n",
       "2020-07-24       -1.0   NaN\n",
       "2020-08-05       -2.0  -1.0\n",
       "2020-08-06       -3.0  -2.0\n",
       "2020-08-11       -4.0  -3.0\n",
       "2020-09-09       -5.0  -4.0\n",
       "...               ...   ...\n",
       "2021-06-21       -8.0  -7.0\n",
       "2021-06-25       -9.0  -8.0\n",
       "2021-06-25      -10.0  -9.0\n",
       "2021-06-28      -11.0 -10.0\n",
       "2021-06-30       39.0 -11.0\n",
       "\n",
       "[65 rows x 2 columns]"
      ]
     },
     "execution_count": 265,
     "metadata": {},
     "output_type": "execute_result"
    }
   ],
   "source": [
    "new_A1784_base = pd.concat([new_A1784_series,new_A1784_series.shift(1)],axis=1)\n",
    "new_A1784_base"
   ]
  },
  {
   "cell_type": "code",
   "execution_count": 266,
   "id": "105e1dd7-9435-4fb9-94f1-8f997fa2212b",
   "metadata": {},
   "outputs": [],
   "source": [
    "new_A1784_base.columns = ['Qty','Forecast']"
   ]
  },
  {
   "cell_type": "code",
   "execution_count": 267,
   "id": "ef0888ae-846a-47d0-8e99-c8f2ca14f321",
   "metadata": {},
   "outputs": [
    {
     "data": {
      "text/html": [
       "<div>\n",
       "<style scoped>\n",
       "    .dataframe tbody tr th:only-of-type {\n",
       "        vertical-align: middle;\n",
       "    }\n",
       "\n",
       "    .dataframe tbody tr th {\n",
       "        vertical-align: top;\n",
       "    }\n",
       "\n",
       "    .dataframe thead th {\n",
       "        text-align: right;\n",
       "    }\n",
       "</style>\n",
       "<table border=\"1\" class=\"dataframe\">\n",
       "  <thead>\n",
       "    <tr style=\"text-align: right;\">\n",
       "      <th></th>\n",
       "      <th>Qty</th>\n",
       "      <th>Forecast</th>\n",
       "    </tr>\n",
       "    <tr>\n",
       "      <th>TransactionDate</th>\n",
       "      <th></th>\n",
       "      <th></th>\n",
       "    </tr>\n",
       "  </thead>\n",
       "  <tbody>\n",
       "    <tr>\n",
       "      <th>2020-07-24</th>\n",
       "      <td>-1.0</td>\n",
       "      <td>NaN</td>\n",
       "    </tr>\n",
       "    <tr>\n",
       "      <th>2020-08-05</th>\n",
       "      <td>-2.0</td>\n",
       "      <td>-1.0</td>\n",
       "    </tr>\n",
       "    <tr>\n",
       "      <th>2020-08-06</th>\n",
       "      <td>-3.0</td>\n",
       "      <td>-2.0</td>\n",
       "    </tr>\n",
       "    <tr>\n",
       "      <th>2020-08-11</th>\n",
       "      <td>-4.0</td>\n",
       "      <td>-3.0</td>\n",
       "    </tr>\n",
       "    <tr>\n",
       "      <th>2020-09-09</th>\n",
       "      <td>-5.0</td>\n",
       "      <td>-4.0</td>\n",
       "    </tr>\n",
       "  </tbody>\n",
       "</table>\n",
       "</div>"
      ],
      "text/plain": [
       "                 Qty  Forecast\n",
       "TransactionDate               \n",
       "2020-07-24      -1.0       NaN\n",
       "2020-08-05      -2.0      -1.0\n",
       "2020-08-06      -3.0      -2.0\n",
       "2020-08-11      -4.0      -3.0\n",
       "2020-09-09      -5.0      -4.0"
      ]
     },
     "execution_count": 267,
     "metadata": {},
     "output_type": "execute_result"
    }
   ],
   "source": [
    "new_A1784_base.head()"
   ]
  },
  {
   "cell_type": "code",
   "execution_count": 268,
   "id": "75526405-c1eb-4107-9645-57a82bb85c32",
   "metadata": {},
   "outputs": [],
   "source": [
    "new_A1784_base.dropna(inplace=True)"
   ]
  },
  {
   "cell_type": "code",
   "execution_count": 269,
   "id": "250cf1be-531f-4284-9550-53bc079a0645",
   "metadata": {},
   "outputs": [
    {
     "data": {
      "text/html": [
       "<div>\n",
       "<style scoped>\n",
       "    .dataframe tbody tr th:only-of-type {\n",
       "        vertical-align: middle;\n",
       "    }\n",
       "\n",
       "    .dataframe tbody tr th {\n",
       "        vertical-align: top;\n",
       "    }\n",
       "\n",
       "    .dataframe thead th {\n",
       "        text-align: right;\n",
       "    }\n",
       "</style>\n",
       "<table border=\"1\" class=\"dataframe\">\n",
       "  <thead>\n",
       "    <tr style=\"text-align: right;\">\n",
       "      <th></th>\n",
       "      <th>Qty</th>\n",
       "      <th>Forecast</th>\n",
       "    </tr>\n",
       "    <tr>\n",
       "      <th>TransactionDate</th>\n",
       "      <th></th>\n",
       "      <th></th>\n",
       "    </tr>\n",
       "  </thead>\n",
       "  <tbody>\n",
       "    <tr>\n",
       "      <th>2020-08-05</th>\n",
       "      <td>-2.0</td>\n",
       "      <td>-1.0</td>\n",
       "    </tr>\n",
       "    <tr>\n",
       "      <th>2020-08-06</th>\n",
       "      <td>-3.0</td>\n",
       "      <td>-2.0</td>\n",
       "    </tr>\n",
       "    <tr>\n",
       "      <th>2020-08-11</th>\n",
       "      <td>-4.0</td>\n",
       "      <td>-3.0</td>\n",
       "    </tr>\n",
       "    <tr>\n",
       "      <th>2020-09-09</th>\n",
       "      <td>-5.0</td>\n",
       "      <td>-4.0</td>\n",
       "    </tr>\n",
       "    <tr>\n",
       "      <th>2020-09-11</th>\n",
       "      <td>25.0</td>\n",
       "      <td>-5.0</td>\n",
       "    </tr>\n",
       "    <tr>\n",
       "      <th>...</th>\n",
       "      <td>...</td>\n",
       "      <td>...</td>\n",
       "    </tr>\n",
       "    <tr>\n",
       "      <th>2021-06-21</th>\n",
       "      <td>-8.0</td>\n",
       "      <td>-7.0</td>\n",
       "    </tr>\n",
       "    <tr>\n",
       "      <th>2021-06-25</th>\n",
       "      <td>-9.0</td>\n",
       "      <td>-8.0</td>\n",
       "    </tr>\n",
       "    <tr>\n",
       "      <th>2021-06-25</th>\n",
       "      <td>-10.0</td>\n",
       "      <td>-9.0</td>\n",
       "    </tr>\n",
       "    <tr>\n",
       "      <th>2021-06-28</th>\n",
       "      <td>-11.0</td>\n",
       "      <td>-10.0</td>\n",
       "    </tr>\n",
       "    <tr>\n",
       "      <th>2021-06-30</th>\n",
       "      <td>39.0</td>\n",
       "      <td>-11.0</td>\n",
       "    </tr>\n",
       "  </tbody>\n",
       "</table>\n",
       "<p>64 rows × 2 columns</p>\n",
       "</div>"
      ],
      "text/plain": [
       "                  Qty  Forecast\n",
       "TransactionDate                \n",
       "2020-08-05       -2.0      -1.0\n",
       "2020-08-06       -3.0      -2.0\n",
       "2020-08-11       -4.0      -3.0\n",
       "2020-09-09       -5.0      -4.0\n",
       "2020-09-11       25.0      -5.0\n",
       "...               ...       ...\n",
       "2021-06-21       -8.0      -7.0\n",
       "2021-06-25       -9.0      -8.0\n",
       "2021-06-25      -10.0      -9.0\n",
       "2021-06-28      -11.0     -10.0\n",
       "2021-06-30       39.0     -11.0\n",
       "\n",
       "[64 rows x 2 columns]"
      ]
     },
     "execution_count": 269,
     "metadata": {},
     "output_type": "execute_result"
    }
   ],
   "source": [
    "new_A1784_base"
   ]
  },
  {
   "cell_type": "code",
   "execution_count": 270,
   "id": "5159df2b-59d1-4096-af81-0fd7b202abf9",
   "metadata": {},
   "outputs": [],
   "source": [
    "from sklearn.metrics import mean_squared_error\n",
    "import numpy as np"
   ]
  },
  {
   "cell_type": "code",
   "execution_count": 274,
   "id": "e0c2be89-26dc-4a68-84d1-e617d4a2359c",
   "metadata": {},
   "outputs": [],
   "source": [
    "new_A1784_error = mean_squared_error(new_A1784_base.Qty, new_A1784_base.Forecast)"
   ]
  },
  {
   "cell_type": "code",
   "execution_count": 275,
   "id": "e4d25545-deda-4e3a-90c6-287d61a149c0",
   "metadata": {
    "tags": []
   },
   "outputs": [
    {
     "data": {
      "text/plain": [
       "57.21875"
      ]
     },
     "execution_count": 275,
     "metadata": {},
     "output_type": "execute_result"
    }
   ],
   "source": [
    "new_A1784_error"
   ]
  },
  {
   "cell_type": "code",
   "execution_count": 277,
   "id": "db95db71-b1dd-4d95-91bf-5536de001760",
   "metadata": {},
   "outputs": [
    {
     "data": {
      "text/plain": [
       "7.564307635203634"
      ]
     },
     "execution_count": 277,
     "metadata": {},
     "output_type": "execute_result"
    }
   ],
   "source": [
    "np.sqrt(new_A1784_error)"
   ]
  },
  {
   "cell_type": "code",
   "execution_count": 278,
   "id": "f09a6cb9-d373-4a14-b2e7-ee097de6c14b",
   "metadata": {},
   "outputs": [],
   "source": [
    "from statsmodels.graphics.tsaplots import plot_acf,plot_pacf"
   ]
  },
  {
   "cell_type": "code",
   "execution_count": 280,
   "id": "20ab81c7-64f2-41bf-8a7f-d6d604d85cd4",
   "metadata": {},
   "outputs": [
    {
     "data": {
      "image/png": "[encoded data removed]",
      "text/plain": [
       "<Figure size 432x288 with 1 Axes>"
      ]
     },
     "execution_count": 280,
     "metadata": {},
     "output_type": "execute_result"
    },
    {
     "data": {
      "image/png": "[encoded data removed]",
      "text/plain": [
       "<Figure size 432x288 with 1 Axes>"
      ]
     },
     "metadata": {
      "needs_background": "light"
     },
     "output_type": "display_data"
    }
   ],
   "source": [
    "plot_acf(new_A1784)"
   ]
  },
  {
   "cell_type": "code",
   "execution_count": 281,
   "id": "a99d86a9-0b98-4f21-bad6-8981b433bf01",
   "metadata": {},
   "outputs": [
    {
     "data": {
      "image/png": "[encoded data removed]",
      "text/plain": [
       "<Figure size 432x288 with 1 Axes>"
      ]
     },
     "execution_count": 281,
     "metadata": {},
     "output_type": "execute_result"
    },
    {
     "data": {
      "image/png": "[encoded data removed]",
      "text/plain": [
       "<Figure size 432x288 with 1 Axes>"
      ]
     },
     "metadata": {
      "needs_background": "light"
     },
     "output_type": "display_data"
    }
   ],
   "source": [
    "#  Q - 5 / P - 3 / d 0-2\n",
    "plot_pacf(new_A1784)"
   ]
  },
  {
   "cell_type": "code",
   "execution_count": 282,
   "id": "93a33fc9-32ea-4599-8d81-a0987fdfc9f4",
   "metadata": {},
   "outputs": [],
   "source": [
    "from statsmodels.tsa.arima_model import ARIMA\n",
    "from sklearn.model_selection import train_test_split"
   ]
  },
  {
   "cell_type": "code",
   "execution_count": 295,
   "id": "4dd34acd-b92f-4aca-81c8-62c19e74ea61",
   "metadata": {},
   "outputs": [],
   "source": [
    "A1784_train = new_A1784[0:55]\n",
    "A1784_test = new_A1784[56:65]"
   ]
  },
  {
   "cell_type": "code",
   "execution_count": 329,
   "id": "45d6132f-608a-4df4-aa7b-d47e628c2f2e",
   "metadata": {
    "tags": []
   },
   "outputs": [],
   "source": [
    "A1784_model = ARIMA(A1784_train, order=(0,0,0))"
   ]
  },
  {
   "cell_type": "code",
   "execution_count": 330,
   "id": "97368038-4f2f-4312-a58b-388b6635724a",
   "metadata": {
    "tags": []
   },
   "outputs": [],
   "source": [
    "A1784_model_fit = A1784_model.fit()"
   ]
  },
  {
   "cell_type": "code",
   "execution_count": 331,
   "id": "f81d86c4-6bd9-49cb-a9d0-423bcd94aa22",
   "metadata": {},
   "outputs": [
    {
     "data": {
      "text/plain": [
       "416.6042835240777"
      ]
     },
     "execution_count": 331,
     "metadata": {},
     "output_type": "execute_result"
    }
   ],
   "source": [
    "A1784_model_fit.aic"
   ]
  },
  {
   "cell_type": "code",
   "execution_count": 332,
   "id": "ccd5301b-ecfd-4237-a754-9c512dead954",
   "metadata": {},
   "outputs": [],
   "source": [
    "A1784_forecast = A1784_model_fit.forecast(steps=9)[0]"
   ]
  },
  {
   "cell_type": "code",
   "execution_count": 334,
   "id": "2ea5af42-5bba-432f-b1ac-f137bf54ce02",
   "metadata": {},
   "outputs": [
    {
     "data": {
      "text/plain": [
       "15.852512380071827"
      ]
     },
     "execution_count": 334,
     "metadata": {},
     "output_type": "execute_result"
    }
   ],
   "source": [
    "np.sqrt(mean_squared_error(A1784_test, A1784_forecast))"
   ]
  },
  {
   "cell_type": "code",
   "execution_count": 301,
   "id": "23033dd9-3780-496f-b665-32eff8f8a3ff",
   "metadata": {},
   "outputs": [],
   "source": [
    "p_values = range(0,4)\n",
    "d_values = range(0,2)\n",
    "q_values = range (0,6)"
   ]
  },
  {
   "cell_type": "code",
   "execution_count": 302,
   "id": "89150281-be59-490d-b8a3-ff6230755ae8",
   "metadata": {},
   "outputs": [
    {
     "name": "stdout",
     "output_type": "stream",
     "text": [
      "ARIMA(0, 0, 0) RMSE = 15.85\n",
      "ARIMA(0, 0, 1) RMSE = 16.08\n",
      "ARIMA(0, 0, 2) RMSE = 15.88\n",
      "ARIMA(0, 0, 3) RMSE = 15.47\n",
      "ARIMA(0, 0, 4) RMSE = 15.14\n",
      "ARIMA(0, 0, 5) RMSE = 15.13\n",
      "ARIMA(0, 1, 0) RMSE = 14.78\n",
      "ARIMA(0, 1, 1) RMSE = 14.77\n",
      "ARIMA(0, 1, 2) RMSE = 14.77\n",
      "ARIMA(0, 1, 3) RMSE = 14.77\n",
      "ARIMA(0, 1, 4) RMSE = 14.77\n",
      "ARIMA(0, 1, 5) RMSE = 14.77\n",
      "ARIMA(1, 0, 0) RMSE = 14.79\n",
      "ARIMA(1, 0, 1) RMSE = 14.80\n",
      "ARIMA(1, 0, 2) RMSE = 14.80\n",
      "ARIMA(1, 0, 3) RMSE = 14.81\n",
      "ARIMA(1, 0, 4) RMSE = 14.81\n",
      "ARIMA(1, 0, 5) RMSE = 14.80\n",
      "ARIMA(1, 1, 0) RMSE = 14.77\n",
      "ARIMA(1, 1, 1) RMSE = 14.78\n",
      "ARIMA(1, 1, 2) RMSE = 14.77\n",
      "ARIMA(1, 1, 3) RMSE = 14.77\n",
      "ARIMA(1, 1, 4) RMSE = 14.77\n",
      "ARIMA(1, 1, 5) RMSE = 14.77\n",
      "ARIMA(2, 0, 0) RMSE = 14.80\n",
      "ARIMA(2, 0, 1) RMSE = 14.85\n",
      "ARIMA(2, 0, 2) RMSE = 14.81\n",
      "ARIMA(2, 0, 3) RMSE = 14.81\n",
      "ARIMA(2, 0, 4) RMSE = 14.83\n",
      "ARIMA(2, 0, 5) RMSE = 14.80\n",
      "ARIMA(2, 1, 0) RMSE = 14.77\n",
      "ARIMA(2, 1, 1) RMSE = 14.77\n",
      "ARIMA(2, 1, 2) RMSE = 14.77\n",
      "ARIMA(2, 1, 3) RMSE = 14.79\n",
      "ARIMA(2, 1, 4) RMSE = 14.77\n",
      "ARIMA(2, 1, 5) RMSE = 14.77\n",
      "ARIMA(3, 0, 0) RMSE = 14.80\n",
      "ARIMA(3, 0, 1) RMSE = 14.80\n",
      "ARIMA(3, 0, 2) RMSE = 14.86\n",
      "ARIMA(3, 0, 3) RMSE = 14.80\n",
      "ARIMA(3, 0, 4) RMSE = 14.80\n",
      "ARIMA(3, 0, 5) RMSE = 14.78\n",
      "ARIMA(3, 1, 0) RMSE = 14.77\n",
      "ARIMA(3, 1, 1) RMSE = 14.77\n",
      "ARIMA(3, 1, 2) RMSE = 14.78\n",
      "ARIMA(3, 1, 4) RMSE = 14.77\n",
      "ARIMA(3, 1, 5) RMSE = 14.77\n"
     ]
    }
   ],
   "source": [
    "warnings.filterwarnings('ignore')\n",
    "for p in p_values:\n",
    "    for d in d_values:\n",
    "        for q in q_values:\n",
    "            order = (p,d,q)\n",
    "            train,test = new_A1784[0:55] , new_A1784[56:65]\n",
    "            predictions = list()\n",
    "            for i in range(len(test)):\n",
    "                try:\n",
    "                    model = ARIMA(train,order)\n",
    "                    model_fit = model.fit(disp=0)\n",
    "                    pred_y = model_fit.forecast()[0]\n",
    "                    predictions.append(pred_y)\n",
    "                    error = np.sqrt(mean_squared_error(test,predictions))\n",
    "                    print('ARIMA%s RMSE = %.2f' % (order,error))\n",
    "                except:\n",
    "                    continue"
   ]
  },
  {
   "cell_type": "code",
   "execution_count": 335,
   "id": "adec8d41-e8c0-4708-859c-7df53f039395",
   "metadata": {},
   "outputs": [
    {
     "data": {
      "text/plain": [
       "array([3.41818182, 3.41818182, 3.41818182, 3.41818182, 3.41818182,\n",
       "       3.41818182, 3.41818182, 3.41818182, 3.41818182])"
      ]
     },
     "execution_count": 335,
     "metadata": {},
     "output_type": "execute_result"
    }
   ],
   "source": [
    "A1784_forecast"
   ]
  },
  {
   "cell_type": "code",
   "execution_count": null,
   "id": "cb692c39-264f-4c62-b1cb-66c2983f2bcb",
   "metadata": {},
   "outputs": [],
   "source": []
  }
 ],
 "metadata": {
  "kernelspec": {
   "display_name": "Python 3",
   "language": "python",
   "name": "python3"
  },
  "language_info": {
   "codemirror_mode": {
    "name": "ipython",
    "version": 3
   },
   "file_extension": ".py",
   "mimetype": "text/x-python",
   "name": "python",
   "nbconvert_exporter": "python",
   "pygments_lexer": "ipython3",
   "version": "3.8.8"
  }
 },
 "nbformat": 4,
 "nbformat_minor": 5
}
